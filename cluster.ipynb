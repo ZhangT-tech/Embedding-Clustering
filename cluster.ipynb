{
 "cells": [
  {
   "cell_type": "markdown",
   "metadata": {},
   "source": [
    "# Clustering Documents with OpenAI embeddings, HDBSCAN and UMAP Tutorial\n",
    "Thanks for the contribution from DYLAN CASTILLO, my code is based on the tutorial given by him, and add more details.\n",
    "\n",
    "Clustering process should be processed in 3 steps:\n",
    "1. Generate numerical vector representations of documents/texts using OpenAI's embedding capabilities.\n",
    "2. Apply a clustering algorithm on the vectors to group the documents.\n",
    "3. Generate a title for each cluster summarizing the articles contained in it."
   ]
  },
  {
   "cell_type": "markdown",
   "metadata": {},
   "source": [
    "## Configuration and Data Preparation"
   ]
  },
  {
   "cell_type": "code",
   "execution_count": 1,
   "metadata": {},
   "outputs": [
    {
     "name": "stderr",
     "output_type": "stream",
     "text": [
      "/Users/zhant0g/Desktop/clustering/.venv/lib/python3.11/site-packages/tqdm/auto.py:21: TqdmWarning: IProgress not found. Please update jupyter and ipywidgets. See https://ipywidgets.readthedocs.io/en/stable/user_install.html\n",
      "  from .autonotebook import tqdm as notebook_tqdm\n"
     ]
    },
    {
     "data": {
      "text/plain": [
       "True"
      ]
     },
     "execution_count": 1,
     "metadata": {},
     "output_type": "execute_result"
    }
   ],
   "source": [
    "## Import the required libraries\n",
    "import os\n",
    "\n",
    "import hdbscan # clustering algorithm\n",
    "import numpy as np\n",
    "import pandas as pd\n",
    "import plotly.express as px\n",
    "import requests\n",
    "from dotenv import load_dotenv\n",
    "from openai import OpenAI\n",
    "from umap import UMAP # for dimensionality reduction and visualizing clusters\n",
    "\n",
    "load_dotenv(\"./configuration.env\")"
   ]
  },
  {
   "cell_type": "code",
   "execution_count": 67,
   "metadata": {},
   "outputs": [
    {
     "name": "stdout",
     "output_type": "stream",
     "text": [
      "Loaded 870 documents\n",
      "Example document: Harvey Weinstein's 2020 rape conviction overturned\n",
      "Victims group describes the New York appeal court's decision to retry Hollywood mogul as \"profoundly unjust\".\n"
     ]
    }
   ],
   "source": [
    "## Load data\n",
    "\n",
    "df = pd.read_csv(\"./news_data_dedup.csv\")\n",
    "docs = [\n",
    "    f\"{title}\\n{description}\"\n",
    "    for title, description in zip(df.title, df.description)\n",
    "]\n",
    "print(f\"Loaded {len(docs)} documents\")\n",
    "print(f\"Example document: {docs[0]}\")"
   ]
  },
  {
   "cell_type": "code",
   "execution_count": null,
   "metadata": {},
   "outputs": [],
   "source": [
    "## Initialize OpenAI API client and generate embeddings\n",
    "client = OpenAI()\n",
    "response = client.embeddings.create(input=docs, model=\"text-embedding-3-small\")\n",
    "embeddings = [np.array(x.embedding) for x in response.data] "
   ]
  },
  {
   "cell_type": "code",
   "execution_count": 11,
   "metadata": {},
   "outputs": [
    {
     "name": "stdout",
     "output_type": "stream",
     "text": [
      "<class 'list'>\n"
     ]
    }
   ],
   "source": [
    "print(type(embeddings))"
   ]
  },
  {
   "cell_type": "markdown",
   "metadata": {},
   "source": [
    "Parameterrs in HDBSCAN:\n",
    "1. min_samples: it defines the minimum number of points in the neighborhood of a point for it to be considered as a core point, the neighborhood is defined by the distance metric. It impacrs the density estimation of the dataset, a point is considered as a core point if it has at least 'min_samples' points, including itself, within its neighborhood. Lower values will make it easier for points to be considered as core points, leading to more clusters and potentially more noise points being considered. Higher values, in contrast, will potentially result in a few clusters and more points being classified as noise.\n",
    "2. min_cluster_size: it sets the minimum sie of clusters, which defines the smallest number of points that a cluster can contain. Clusters smaller tha min_cluster_size will be considered as noise. Lower values allow smaller clusters to be formed, which migh include small meaningful clusters or noise clusters. While higher values ensure that only larger, more significant clusters are retained, but might lead to samll meaningful clusters being discarded."
   ]
  },
  {
   "cell_type": "markdown",
   "metadata": {},
   "source": [
    "## Evaluate the Impact of Parameters on Clustering Correctness\n",
    "\n",
    "1. Silhouette Score: it measures how similar a point is to its own cluster compared to other clusters. A higher silhouette score indicates a betteer defined clusters.\n",
    "2. Davies-Bouldin Index: it measures the average similarity ratio of each cluster with the cluster most similar to it. Loweer values indicates better clustering.\n",
    "3. Dunn Index: it measures the ratio of minimum inter-cluster distance to the maximum intra-cluster distance. Higher values indicate the clusters are well-separated and compact. While lower score means the clusters are either not well separated, or very spread out. \n",
    "   1. Minimum inter-cluster distance: the closest distance between points in different clusters.\n",
    "   2. Maximum intra-cluster distance: the largest distance between points within the same cluster."
   ]
  },
  {
   "cell_type": "code",
   "execution_count": 18,
   "metadata": {},
   "outputs": [],
   "source": [
    "from sklearn.metrics import silhouette_score, davies_bouldin_score\n",
    "\n",
    "def evaluate_cluster_quality(data, min_samples, min_cluster_size):\n",
    "    cluster = hdbscan.HDBSCAN(min_samples=min_samples, min_cluster_size=min_cluster_size)\n",
    "    labels = cluster.fit_predict(data)\n",
    "\n",
    "    ## Ignore the noise points for evaluation\n",
    "    mask = labels != -1\n",
    "    data = np.array(data)\n",
    "    clean_data = data[mask]\n",
    "    clean_labels = labels[mask]\n",
    "\n",
    "    if len(np.unique(clean_labels)) > 1:\n",
    "        silhouette_score_avg = silhouette_score(clean_data, clean_labels)\n",
    "        davies_bouldin = davies_bouldin_score(clean_data, clean_labels)\n",
    "    else:\n",
    "        silhouette_score_avg = -1\n",
    "        davies_bouldin = np.inf\n",
    "\n",
    "    return silhouette_score_avg, davies_bouldin, cluster"
   ]
  },
  {
   "cell_type": "code",
   "execution_count": 26,
   "metadata": {},
   "outputs": [
    {
     "name": "stdout",
     "output_type": "stream",
     "text": [
      "========== min_samples: 3, min_cluster_size: 3 ==========\n",
      "Silhouette Score: 0.20702545297476813\n",
      "Davies Bouldin Score: 1.629948203744836\n",
      "Number of clusters: 58\n",
      "Number of nosie points: 283\n",
      "========== min_samples: 3, min_cluster_size: 5 ==========\n",
      "Silhouette Score: 0.19726359526787593\n",
      "Davies Bouldin Score: 1.707405676173979\n",
      "Number of clusters: 45\n",
      "Number of nosie points: 299\n",
      "========== min_samples: 3, min_cluster_size: 10 ==========\n",
      "Silhouette Score: 0.14944167752636098\n",
      "Davies Bouldin Score: 2.1104890692428873\n",
      "Number of clusters: 16\n",
      "Number of nosie points: 390\n",
      "========== min_samples: 3, min_cluster_size: 20 ==========\n",
      "Silhouette Score: 0.14128821374879916\n",
      "Davies Bouldin Score: 2.2426675272166396\n",
      "Number of clusters: 9\n",
      "Number of nosie points: 455\n",
      "========== min_samples: 5, min_cluster_size: 3 ==========\n",
      "Silhouette Score: 0.21601401001043555\n",
      "Davies Bouldin Score: 1.5945659299480504\n",
      "Number of clusters: 37\n",
      "Number of nosie points: 432\n",
      "========== min_samples: 5, min_cluster_size: 5 ==========\n",
      "Silhouette Score: 0.21503762386691333\n",
      "Davies Bouldin Score: 1.630983224741851\n",
      "Number of clusters: 29\n",
      "Number of nosie points: 430\n",
      "========== min_samples: 5, min_cluster_size: 10 ==========\n",
      "Silhouette Score: 0.1815823116659306\n",
      "Davies Bouldin Score: 1.925900195384347\n",
      "Number of clusters: 13\n",
      "Number of nosie points: 497\n",
      "========== min_samples: 5, min_cluster_size: 20 ==========\n",
      "Silhouette Score: 0.06358473520828634\n",
      "Davies Bouldin Score: 2.8310712396133884\n",
      "Number of clusters: 4\n",
      "Number of nosie points: 350\n",
      "========== min_samples: 10, min_cluster_size: 3 ==========\n",
      "Silhouette Score: 0.22299010023024\n",
      "Davies Bouldin Score: 1.6130217842824952\n",
      "Number of clusters: 14\n",
      "Number of nosie points: 596\n",
      "========== min_samples: 10, min_cluster_size: 5 ==========\n",
      "Silhouette Score: 0.223639923375248\n",
      "Davies Bouldin Score: 1.6416208017021983\n",
      "Number of clusters: 12\n",
      "Number of nosie points: 602\n",
      "========== min_samples: 10, min_cluster_size: 10 ==========\n",
      "Silhouette Score: 0.11698857862680448\n",
      "Davies Bouldin Score: 1.9860956051302696\n",
      "Number of clusters: 8\n",
      "Number of nosie points: 487\n",
      "========== min_samples: 10, min_cluster_size: 20 ==========\n",
      "Silhouette Score: 0.10943168309217954\n",
      "Davies Bouldin Score: 2.5655991820443065\n",
      "Number of clusters: 4\n",
      "Number of nosie points: 463\n",
      "========== min_samples: 20, min_cluster_size: 3 ==========\n",
      "Silhouette Score: 0.13265544066137236\n",
      "Davies Bouldin Score: 2.210641118254407\n",
      "Number of clusters: 4\n",
      "Number of nosie points: 572\n",
      "========== min_samples: 20, min_cluster_size: 5 ==========\n",
      "Silhouette Score: 0.13265544066137236\n",
      "Davies Bouldin Score: 2.210641118254407\n",
      "Number of clusters: 4\n",
      "Number of nosie points: 572\n",
      "========== min_samples: 20, min_cluster_size: 10 ==========\n",
      "Silhouette Score: 0.13265544066137236\n",
      "Davies Bouldin Score: 2.210641118254407\n",
      "Number of clusters: 4\n",
      "Number of nosie points: 572\n",
      "========== min_samples: 20, min_cluster_size: 20 ==========\n",
      "Silhouette Score: 0.1314679682921894\n",
      "Davies Bouldin Score: 2.2470697066527396\n",
      "Number of clusters: 3\n",
      "Number of nosie points: 589\n"
     ]
    }
   ],
   "source": [
    "import matplotlib.pyplot as plt\n",
    "import seaborn as sns\n",
    "\n",
    "## Test Parameters \n",
    "min_samples_value = [3, 5, 10, 20]\n",
    "min_cluster_size_value = [3, 5, 10, 20]\n",
    "\n",
    "results = []\n",
    "\n",
    "for min_samples in min_samples_value:\n",
    "    for min_cluster_size in min_cluster_size_value:\n",
    "        silhouette_score_avg, davies_bouldin, cluster = evaluate_cluster_quality(embeddings, min_samples, min_cluster_size)\n",
    "        print(\"=\"*10, f\"min_samples: {min_samples}, min_cluster_size: {min_cluster_size}\", \"=\"*10)\n",
    "        print(f\"Silhouette Score: {silhouette_score_avg}\")\n",
    "        print(f\"Davies Bouldin Score: {davies_bouldin}\")\n",
    "        print(f\"Number of clusters: {len(np.unique(cluster.labels_)) - (1 if -1 in cluster.labels_ else 0)}\")\n",
    "        print(f\"Number of nosie points: {(cluster.labels_ == -1).sum()}\") \n",
    "        results.append({\n",
    "            \"min_samples\": min_samples,\n",
    "            \"min_cluster_size\": min_cluster_size,\n",
    "            \"silhouette_score\": silhouette_score_avg,\n",
    "            \"davies_bouldin\": davies_bouldin,\n",
    "            \"num_clusters\": len(np.unique(cluster.labels_)) - (1 if -1 in cluster.labels_ else 0),\n",
    "            \"num_noise_points\": (cluster.labels_ == -1).sum()\n",
    "        })"
   ]
  },
  {
   "cell_type": "code",
   "execution_count": 28,
   "metadata": {},
   "outputs": [
    {
     "data": {
      "image/png": "[encoded data removed]",
      "text/plain": [
       "<Figure size 1500x1000 with 8 Axes>"
      ]
     },
     "metadata": {},
     "output_type": "display_data"
    }
   ],
   "source": [
    "results_df = pd.DataFrame(results, columns=[\"min_samples\", \"min_cluster_size\", \"silhouette_score\", \"davies_bouldin\", \"num_clusters\", \"num_noise_points\"])\n",
    "\n",
    "fig, axes = plt.subplots(2, 2, figsize=(15, 10))\n",
    "\n",
    "## Silhouette Score Heatmap\n",
    "pivot_silhouette = results_df.pivot(index=\"min_samples\", columns=\"min_cluster_size\", values=\"silhouette_score\")\n",
    "sns.heatmap(pivot_silhouette, annot=True, fmt=\".2f\", cmap=\"viridis\", ax=axes[0, 0])\n",
    "axes[0, 0].set_title(\"Silhouette Score\")\n",
    "\n",
    "## Davies Bouldin Score Heatmap\n",
    "pivot_daives = results_df.pivot(index=\"min_samples\", columns=\"min_cluster_size\", values=\"davies_bouldin\")\n",
    "sns.heatmap(pivot_daives, annot=True, fmt=\".2f\", cmap=\"viridis\", ax=axes[0, 1])\n",
    "axes[0, 1].set_title(\"Davies Bouldin Score\")\n",
    "\n",
    "## Number of Clusters Heatmap\n",
    "pivot_num_clusters = results_df.pivot(index=\"min_samples\", columns=\"min_cluster_size\", values=\"num_clusters\")\n",
    "sns.heatmap(pivot_num_clusters, annot=True, fmt=\".0f\", cmap=\"viridis\", ax=axes[1, 0])\n",
    "axes[1, 0].set_title(\"Number of Clusters\")\n",
    "\n",
    "# Number of Noise Points Heatmap\n",
    "pivot_num_noise_points = results_df.pivot(index=\"min_samples\", columns=\"min_cluster_size\", values=\"num_noise_points\")\n",
    "sns.heatmap(pivot_num_noise_points, annot=True, fmt=\".0f\", cmap=\"viridis\", ax=axes[1, 1])\n",
    "axes[1, 1].set_title(\"Number of Noise Points\")\n",
    "\n",
    "plt.tight_layout()\n",
    "plt.show()"
   ]
  },
  {
   "cell_type": "code",
   "execution_count": 30,
   "metadata": {},
   "outputs": [
    {
     "name": "stdout",
     "output_type": "stream",
     "text": [
      "Best Parameters based on Silhouette Score: min_samples          10.000000\n",
      "min_cluster_size      5.000000\n",
      "silhouette_score      0.223640\n",
      "davies_bouldin        1.641621\n",
      "num_clusters         12.000000\n",
      "num_noise_points    602.000000\n",
      "Name: 9, dtype: float64\n",
      "Best Parameters based on Davies Bouldin Score: min_samples           5.000000\n",
      "min_cluster_size      3.000000\n",
      "silhouette_score      0.216014\n",
      "davies_bouldin        1.594566\n",
      "num_clusters         37.000000\n",
      "num_noise_points    432.000000\n",
      "Name: 4, dtype: float64\n",
      "Metrics do not agree on the best parameters, Using Silhouette Score as the best parameters\n"
     ]
    },
    {
     "name": "stderr",
     "output_type": "stream",
     "text": [
      "/Users/zhant0g/Desktop/clustering/.venv/lib/python3.11/site-packages/umap/umap_.py:1945: UserWarning:\n",
      "\n",
      "n_jobs value 1 overridden to 1 by setting random_state. Use no seed for parallelism.\n",
      "\n"
     ]
    },
    {
     "data": {
      "application/vnd.plotly.v1+json": {
       "config": {
        "plotlyServerURL": "https://plot.ly"
       },
       "data": [
        {
         "hovertemplate": "cluster=0<br>x=%{x}<br>y=%{y}<extra></extra>",
         "legendgroup": "0",
         "marker": {
          "color": "#636efa",
          "symbol": "circle"
         },
         "mode": "markers",
         "name": "0",
         "orientation": "v",
         "showlegend": true,
         "type": "scatter",
         "x": [
          6.405672073364258,
          6.3200249671936035,
          6.421497344970703,
          6.431542873382568,
          6.4941277503967285,
          6.485140800476074,
          6.474148273468018,
          6.410798072814941,
          6.448122978210449,
          6.491865634918213,
          6.515526294708252
         ],
         "xaxis": "x",
         "y": [
          5.759316444396973,
          5.876033306121826,
          5.667279243469238,
          5.67559814453125,
          5.7903828620910645,
          5.731801509857178,
          5.612626552581787,
          5.71230936050415,
          5.673676013946533,
          5.691878795623779,
          5.662976264953613
         ],
         "yaxis": "y"
        },
        {
         "hovertemplate": "cluster=1<br>x=%{x}<br>y=%{y}<extra></extra>",
         "legendgroup": "1",
         "marker": {
          "color": "#EF553B",
          "symbol": "circle"
         },
         "mode": "markers",
         "name": "1",
         "orientation": "v",
         "showlegend": true,
         "type": "scatter",
         "x": [
          5.000464916229248,
          3.3103902339935303,
          3.1914618015289307,
          3.3258309364318848,
          2.819822072982788,
          3.1868274211883545,
          2.8919677734375,
          3.0590763092041016,
          3.6545655727386475,
          3.109834909439087,
          2.760181188583374,
          2.9639317989349365,
          2.9937527179718018,
          2.9964754581451416,
          3.6039867401123047,
          2.8099052906036377,
          2.8227667808532715,
          2.8776023387908936,
          2.838033437728882,
          3.033675193786621,
          3.138462543487549,
          2.831637144088745,
          3.232534646987915,
          2.9488484859466553,
          3.289888381958008,
          3.3687052726745605,
          3.1345882415771484,
          3.044914722442627,
          2.6421029567718506,
          2.619858741760254,
          2.8954403400421143,
          3.1149282455444336,
          3.3283965587615967,
          3.1876745223999023,
          3.04335355758667,
          2.7138688564300537,
          3.0946407318115234,
          2.8046512603759766,
          3.0978264808654785,
          2.943260669708252,
          2.738070249557495,
          2.804058074951172,
          2.9474642276763916,
          3.1776862144470215,
          2.8629260063171387
         ],
         "xaxis": "x",
         "y": [
          5.184929847717285,
          5.237109184265137,
          4.950950622558594,
          5.146554470062256,
          5.3390212059021,
          4.939460754394531,
          5.291101932525635,
          5.172358989715576,
          5.167890548706055,
          5.045384883880615,
          5.206644535064697,
          5.0746307373046875,
          4.768563747406006,
          5.175482273101807,
          5.234271049499512,
          5.029151439666748,
          5.049379348754883,
          4.999846935272217,
          5.111265182495117,
          5.003210544586182,
          5.1720685958862305,
          5.358275890350342,
          5.315140247344971,
          5.215705871582031,
          5.377600193023682,
          5.2530364990234375,
          5.140398025512695,
          5.103890895843506,
          5.2288641929626465,
          5.196418285369873,
          4.919339179992676,
          5.4981818199157715,
          5.121342182159424,
          5.1832966804504395,
          4.914889335632324,
          4.993594646453857,
          5.197746753692627,
          4.992836952209473,
          5.355482578277588,
          5.223039150238037,
          5.369168281555176,
          5.005947589874268,
          4.760604381561279,
          4.897021770477295,
          5.197653293609619
         ],
         "yaxis": "y"
        },
        {
         "hovertemplate": "cluster=10<br>x=%{x}<br>y=%{y}<extra></extra>",
         "legendgroup": "10",
         "marker": {
          "color": "#00cc96",
          "symbol": "circle"
         },
         "mode": "markers",
         "name": "10",
         "orientation": "v",
         "showlegend": true,
         "type": "scatter",
         "x": [
          5.3501386642456055,
          5.285292625427246,
          5.300210475921631,
          5.417924404144287,
          5.5936689376831055,
          5.127685546875,
          5.206789493560791,
          5.176084041595459,
          5.44468879699707,
          5.250916957855225,
          5.178553581237793,
          5.385797500610352,
          5.208466529846191,
          5.213442325592041,
          5.010115146636963,
          5.553049564361572,
          5.410162448883057,
          5.269164085388184,
          5.705841541290283,
          5.4837727546691895,
          5.2585344314575195,
          5.436666488647461,
          5.4804792404174805,
          5.020998954772949,
          5.00404167175293,
          5.4764862060546875,
          5.004851341247559,
          5.045722484588623,
          5.346831321716309,
          5.157718658447266,
          5.048687934875488,
          5.124104976654053,
          5.172739505767822,
          5.151669025421143,
          5.046116828918457,
          5.071878910064697,
          5.243527889251709,
          5.256986618041992,
          5.1961517333984375,
          5.321462631225586,
          5.106950759887695,
          5.615476131439209,
          5.372872829437256,
          5.5598907470703125,
          5.296499252319336,
          4.998135089874268,
          5.424969673156738,
          5.671652793884277,
          5.568842887878418,
          5.125907897949219,
          5.3070573806762695,
          5.3568434715271,
          5.253582954406738,
          5.294261932373047
         ],
         "xaxis": "x",
         "y": [
          9.225048065185547,
          8.968620300292969,
          8.497146606445312,
          8.635560035705566,
          8.643102645874023,
          8.627897262573242,
          8.817481994628906,
          8.658106803894043,
          9.045454025268555,
          9.001442909240723,
          9.03944206237793,
          9.041115760803223,
          8.908914566040039,
          9.144514083862305,
          8.654741287231445,
          9.108409881591797,
          8.632143020629883,
          9.212128639221191,
          8.910347938537598,
          8.831171989440918,
          8.95837116241455,
          8.88757610321045,
          8.977500915527344,
          8.856488227844238,
          8.910982131958008,
          8.986124992370605,
          8.85004711151123,
          8.866214752197266,
          8.478265762329102,
          8.71556568145752,
          8.766128540039062,
          8.77760124206543,
          8.73009204864502,
          8.940742492675781,
          8.922709465026855,
          8.803483963012695,
          8.813081741333008,
          9.118362426757812,
          9.085424423217773,
          9.108038902282715,
          8.616374015808105,
          8.67589282989502,
          8.53996467590332,
          9.008501052856445,
          8.682467460632324,
          8.903563499450684,
          8.482236862182617,
          8.683296203613281,
          9.042571067810059,
          9.024482727050781,
          9.093375205993652,
          8.78231430053711,
          8.827198028564453,
          8.807358741760254
         ],
         "yaxis": "y"
        },
        {
         "hovertemplate": "cluster=11<br>x=%{x}<br>y=%{y}<extra></extra>",
         "legendgroup": "11",
         "marker": {
          "color": "#ab63fa",
          "symbol": "circle"
         },
         "mode": "markers",
         "name": "11",
         "orientation": "v",
         "showlegend": true,
         "type": "scatter",
         "x": [
          7.36065673828125,
          7.59338903427124,
          7.652497291564941,
          8.170880317687988,
          7.54671573638916,
          7.726944446563721,
          7.686332702636719,
          6.811605453491211,
          7.414756774902344,
          7.690676689147949,
          7.887850284576416,
          7.795097351074219,
          7.5208821296691895,
          7.533716678619385,
          7.577869415283203,
          7.559543132781982,
          7.121058940887451,
          7.593725204467773,
          7.411265850067139,
          7.374967575073242
         ],
         "xaxis": "x",
         "y": [
          9.075594902038574,
          9.122892379760742,
          9.167158126831055,
          9.213183403015137,
          9.073797225952148,
          9.180903434753418,
          9.252073287963867,
          8.788366317749023,
          9.140852928161621,
          9.24696159362793,
          8.99887466430664,
          8.836202621459961,
          9.01183795928955,
          9.112897872924805,
          9.076834678649902,
          9.250264167785645,
          9.038533210754395,
          8.94933795928955,
          8.815067291259766,
          9.06995964050293
         ],
         "yaxis": "y"
        },
        {
         "hovertemplate": "cluster=2<br>x=%{x}<br>y=%{y}<extra></extra>",
         "legendgroup": "2",
         "marker": {
          "color": "#FFA15A",
          "symbol": "circle"
         },
         "mode": "markers",
         "name": "2",
         "orientation": "v",
         "showlegend": true,
         "type": "scatter",
         "x": [
          10.38742446899414,
          10.387221336364746,
          10.362119674682617,
          10.238639831542969,
          10.229818344116211,
          10.368475914001465,
          10.335443496704102,
          10.353403091430664,
          9.290173530578613,
          10.246044158935547,
          10.228809356689453,
          10.324212074279785
         ],
         "xaxis": "x",
         "y": [
          2.8289895057678223,
          2.8763043880462646,
          3.174804210662842,
          2.7687740325927734,
          2.860668897628784,
          2.7297868728637695,
          2.7548723220825195,
          2.6926987171173096,
          2.6510891914367676,
          2.7617709636688232,
          2.7800567150115967,
          2.7783942222595215
         ],
         "yaxis": "y"
        },
        {
         "hovertemplate": "cluster=3<br>x=%{x}<br>y=%{y}<extra></extra>",
         "legendgroup": "3",
         "marker": {
          "color": "#19d3f3",
          "symbol": "circle"
         },
         "mode": "markers",
         "name": "3",
         "orientation": "v",
         "showlegend": true,
         "type": "scatter",
         "x": [
          8.986278533935547,
          9.05223274230957,
          9.113534927368164,
          8.973041534423828,
          9.185179710388184,
          9.183202743530273,
          9.039834976196289,
          9.063372611999512,
          9.111977577209473,
          9.24435806274414,
          9.036246299743652,
          9.123880386352539,
          9.01009464263916,
          9.20958423614502,
          9.162619590759277
         ],
         "xaxis": "x",
         "y": [
          2.833655834197998,
          2.9554989337921143,
          2.6819984912872314,
          2.7036449909210205,
          2.5415287017822266,
          2.6881937980651855,
          2.7811830043792725,
          2.84366774559021,
          2.8936269283294678,
          2.587951898574829,
          2.79642653465271,
          2.6861069202423096,
          2.726489305496216,
          2.5970139503479004,
          2.673151969909668
         ],
         "yaxis": "y"
        },
        {
         "hovertemplate": "cluster=4<br>x=%{x}<br>y=%{y}<extra></extra>",
         "legendgroup": "4",
         "marker": {
          "color": "#FF6692",
          "symbol": "circle"
         },
         "mode": "markers",
         "name": "4",
         "orientation": "v",
         "showlegend": true,
         "type": "scatter",
         "x": [
          9.875521659851074,
          9.623923301696777,
          9.644667625427246,
          9.660280227661133,
          9.398416519165039,
          9.599677085876465,
          9.622603416442871,
          9.601821899414062,
          9.665933609008789,
          9.683188438415527,
          9.639817237854004
         ],
         "xaxis": "x",
         "y": [
          2.930821657180786,
          3.4322738647460938,
          3.0463337898254395,
          3.4536895751953125,
          3.034132719039917,
          3.597527503967285,
          3.0030784606933594,
          2.977973699569702,
          3.4351046085357666,
          3.483030319213867,
          3.124425172805786
         ],
         "yaxis": "y"
        },
        {
         "hovertemplate": "cluster=5<br>x=%{x}<br>y=%{y}<extra></extra>",
         "legendgroup": "5",
         "marker": {
          "color": "#B6E880",
          "symbol": "circle"
         },
         "mode": "markers",
         "name": "5",
         "orientation": "v",
         "showlegend": true,
         "type": "scatter",
         "x": [
          5.887519836425781,
          5.74456262588501,
          5.65931510925293,
          5.993442535400391,
          5.763434410095215,
          5.705383777618408,
          5.701587200164795,
          5.75952672958374,
          5.701991558074951,
          5.689470291137695,
          5.738460063934326,
          5.667099475860596,
          5.718989849090576,
          5.697107791900635,
          5.692766189575195,
          5.685009002685547,
          5.884617328643799,
          5.681288242340088,
          5.719069957733154
         ],
         "xaxis": "x",
         "y": [
          3.2766401767730713,
          3.1581835746765137,
          3.0531165599823,
          3.525684356689453,
          3.3275890350341797,
          3.2458012104034424,
          3.1546413898468018,
          3.2612578868865967,
          3.125253200531006,
          3.1947782039642334,
          3.111473321914673,
          3.1179583072662354,
          3.2003445625305176,
          3.2368786334991455,
          3.118276357650757,
          3.0894389152526855,
          2.974419355392456,
          3.156916379928589,
          3.0308611392974854
         ],
         "yaxis": "y"
        },
        {
         "hovertemplate": "cluster=6<br>x=%{x}<br>y=%{y}<extra></extra>",
         "legendgroup": "6",
         "marker": {
          "color": "#FF97FF",
          "symbol": "circle"
         },
         "mode": "markers",
         "name": "6",
         "orientation": "v",
         "showlegend": true,
         "type": "scatter",
         "x": [
          6.061275482177734,
          6.639975547790527,
          6.569726943969727,
          6.467216968536377,
          5.952142238616943,
          6.658306121826172,
          6.600142478942871,
          6.687926769256592,
          6.592909812927246,
          6.785797595977783,
          6.623061180114746,
          6.608752250671387,
          6.0172929763793945,
          6.693273067474365,
          6.752087593078613,
          6.5301971435546875,
          6.4436726570129395,
          6.516984939575195,
          6.53263521194458,
          6.554141044616699,
          6.701837539672852,
          6.612449645996094,
          6.570201396942139,
          6.694474220275879,
          6.645454406738281
         ],
         "xaxis": "x",
         "y": [
          1.8619697093963623,
          1.3687494993209839,
          1.3782299757003784,
          1.4759522676467896,
          2.0328192710876465,
          1.5332647562026978,
          1.4113590717315674,
          1.5442553758621216,
          1.4287084341049194,
          1.6291950941085815,
          1.5178368091583252,
          1.4876587390899658,
          1.966579556465149,
          1.5086748600006104,
          1.553792119026184,
          1.3973437547683716,
          1.5956120491027832,
          1.4418314695358276,
          1.466149926185608,
          1.476511836051941,
          1.3263115882873535,
          1.5514050722122192,
          1.550783395767212,
          1.5098400115966797,
          1.4792649745941162
         ],
         "yaxis": "y"
        },
        {
         "hovertemplate": "cluster=7<br>x=%{x}<br>y=%{y}<extra></extra>",
         "legendgroup": "7",
         "marker": {
          "color": "#FECB52",
          "symbol": "circle"
         },
         "mode": "markers",
         "name": "7",
         "orientation": "v",
         "showlegend": true,
         "type": "scatter",
         "x": [
          8.221190452575684,
          8.28587818145752,
          8.330244064331055,
          8.06369400024414,
          8.24084186553955,
          8.29380989074707,
          8.163397789001465
         ],
         "xaxis": "x",
         "y": [
          4.115603446960449,
          4.1408185958862305,
          4.051702499389648,
          4.350598335266113,
          4.200533390045166,
          4.057961940765381,
          4.173826217651367
         ],
         "yaxis": "y"
        },
        {
         "hovertemplate": "cluster=8<br>x=%{x}<br>y=%{y}<extra></extra>",
         "legendgroup": "8",
         "marker": {
          "color": "#636efa",
          "symbol": "circle"
         },
         "mode": "markers",
         "name": "8",
         "orientation": "v",
         "showlegend": true,
         "type": "scatter",
         "x": [
          10.168976783752441,
          10.097931861877441,
          10.297842025756836,
          10.316631317138672,
          10.347887992858887,
          10.323302268981934,
          10.232903480529785,
          10.224857330322266,
          10.278299331665039,
          10.28420639038086,
          10.188511848449707,
          10.182316780090332,
          10.206181526184082,
          10.127019882202148,
          10.27217960357666,
          10.293560981750488,
          10.312628746032715,
          10.271196365356445,
          10.381031036376953,
          10.162788391113281,
          10.281290054321289,
          10.253342628479004,
          10.328441619873047,
          10.093243598937988
         ],
         "xaxis": "x",
         "y": [
          6.546223163604736,
          6.514182090759277,
          6.132735252380371,
          6.194485187530518,
          6.176534652709961,
          6.1756696701049805,
          6.4089837074279785,
          6.446411609649658,
          6.099153518676758,
          6.151756763458252,
          6.386724472045898,
          6.519383907318115,
          6.307621002197266,
          6.546396732330322,
          6.406418800354004,
          6.088232040405273,
          6.3813676834106445,
          6.24113130569458,
          6.1302642822265625,
          6.4503326416015625,
          6.338604927062988,
          6.303156852722168,
          6.326116561889648,
          6.501610279083252
         ],
         "yaxis": "y"
        },
        {
         "hovertemplate": "cluster=9<br>x=%{x}<br>y=%{y}<extra></extra>",
         "legendgroup": "9",
         "marker": {
          "color": "#EF553B",
          "symbol": "circle"
         },
         "mode": "markers",
         "name": "9",
         "orientation": "v",
         "showlegend": true,
         "type": "scatter",
         "x": [
          9.83454704284668,
          8.991171836853027,
          9.370526313781738,
          9.474604606628418,
          9.811225891113281,
          9.84677505493164,
          9.473186492919922,
          9.791258811950684,
          9.49945068359375,
          9.658890724182129,
          9.807747840881348,
          9.594432830810547,
          9.668014526367188,
          9.745290756225586,
          9.478166580200195,
          9.702503204345703,
          9.435216903686523,
          9.595335960388184,
          9.607267379760742,
          9.689765930175781,
          9.748340606689453,
          9.148842811584473,
          9.46285629272461,
          9.250489234924316,
          9.698563575744629
         ],
         "xaxis": "x",
         "y": [
          7.301742076873779,
          7.143612861633301,
          7.110707759857178,
          7.508161544799805,
          7.512415885925293,
          7.360353946685791,
          7.331023693084717,
          7.465957164764404,
          7.45445442199707,
          7.238870143890381,
          7.316829204559326,
          7.435661792755127,
          7.482003211975098,
          7.397583961486816,
          7.4784369468688965,
          7.4665703773498535,
          7.3100905418396,
          7.545525074005127,
          7.20918083190918,
          7.57966947555542,
          7.501152515411377,
          7.155110836029053,
          7.368044853210449,
          7.408278465270996,
          7.491524696350098
         ],
         "yaxis": "y"
        }
       ],
       "layout": {
        "legend": {
         "title": {
          "text": "cluster"
         },
         "tracegroupgap": 0
        },
        "margin": {
         "t": 60
        },
        "template": {
         "data": {
          "bar": [
           {
            "error_x": {
             "color": "#2a3f5f"
            },
            "error_y": {
             "color": "#2a3f5f"
            },
            "marker": {
             "line": {
              "color": "#E5ECF6",
              "width": 0.5
             },
             "pattern": {
              "fillmode": "overlay",
              "size": 10,
              "solidity": 0.2
             }
            },
            "type": "bar"
           }
          ],
          "barpolar": [
           {
            "marker": {
             "line": {
              "color": "#E5ECF6",
              "width": 0.5
             },
             "pattern": {
              "fillmode": "overlay",
              "size": 10,
              "solidity": 0.2
             }
            },
            "type": "barpolar"
           }
          ],
          "carpet": [
           {
            "aaxis": {
             "endlinecolor": "#2a3f5f",
             "gridcolor": "white",
             "linecolor": "white",
             "minorgridcolor": "white",
             "startlinecolor": "#2a3f5f"
            },
            "baxis": {
             "endlinecolor": "#2a3f5f",
             "gridcolor": "white",
             "linecolor": "white",
             "minorgridcolor": "white",
             "startlinecolor": "#2a3f5f"
            },
            "type": "carpet"
           }
          ],
          "choropleth": [
           {
            "colorbar": {
             "outlinewidth": 0,
             "ticks": ""
            },
            "type": "choropleth"
           }
          ],
          "contour": [
           {
            "colorbar": {
             "outlinewidth": 0,
             "ticks": ""
            },
            "colorscale": [
             [
              0,
              "#0d0887"
             ],
             [
              0.1111111111111111,
              "#46039f"
             ],
             [
              0.2222222222222222,
              "#7201a8"
             ],
             [
              0.3333333333333333,
              "#9c179e"
             ],
             [
              0.4444444444444444,
              "#bd3786"
             ],
             [
              0.5555555555555556,
              "#d8576b"
             ],
             [
              0.6666666666666666,
              "#ed7953"
             ],
             [
              0.7777777777777778,
              "#fb9f3a"
             ],
             [
              0.8888888888888888,
              "#fdca26"
             ],
             [
              1,
              "#f0f921"
             ]
            ],
            "type": "contour"
           }
          ],
          "contourcarpet": [
           {
            "colorbar": {
             "outlinewidth": 0,
             "ticks": ""
            },
            "type": "contourcarpet"
           }
          ],
          "heatmap": [
           {
            "colorbar": {
             "outlinewidth": 0,
             "ticks": ""
            },
            "colorscale": [
             [
              0,
              "#0d0887"
             ],
             [
              0.1111111111111111,
              "#46039f"
             ],
             [
              0.2222222222222222,
              "#7201a8"
             ],
             [
              0.3333333333333333,
              "#9c179e"
             ],
             [
              0.4444444444444444,
              "#bd3786"
             ],
             [
              0.5555555555555556,
              "#d8576b"
             ],
             [
              0.6666666666666666,
              "#ed7953"
             ],
             [
              0.7777777777777778,
              "#fb9f3a"
             ],
             [
              0.8888888888888888,
              "#fdca26"
             ],
             [
              1,
              "#f0f921"
             ]
            ],
            "type": "heatmap"
           }
          ],
          "heatmapgl": [
           {
            "colorbar": {
             "outlinewidth": 0,
             "ticks": ""
            },
            "colorscale": [
             [
              0,
              "#0d0887"
             ],
             [
              0.1111111111111111,
              "#46039f"
             ],
             [
              0.2222222222222222,
              "#7201a8"
             ],
             [
              0.3333333333333333,
              "#9c179e"
             ],
             [
              0.4444444444444444,
              "#bd3786"
             ],
             [
              0.5555555555555556,
              "#d8576b"
             ],
             [
              0.6666666666666666,
              "#ed7953"
             ],
             [
              0.7777777777777778,
              "#fb9f3a"
             ],
             [
              0.8888888888888888,
              "#fdca26"
             ],
             [
              1,
              "#f0f921"
             ]
            ],
            "type": "heatmapgl"
           }
          ],
          "histogram": [
           {
            "marker": {
             "pattern": {
              "fillmode": "overlay",
              "size": 10,
              "solidity": 0.2
             }
            },
            "type": "histogram"
           }
          ],
          "histogram2d": [
           {
            "colorbar": {
             "outlinewidth": 0,
             "ticks": ""
            },
            "colorscale": [
             [
              0,
              "#0d0887"
             ],
             [
              0.1111111111111111,
              "#46039f"
             ],
             [
              0.2222222222222222,
              "#7201a8"
             ],
             [
              0.3333333333333333,
              "#9c179e"
             ],
             [
              0.4444444444444444,
              "#bd3786"
             ],
             [
              0.5555555555555556,
              "#d8576b"
             ],
             [
              0.6666666666666666,
              "#ed7953"
             ],
             [
              0.7777777777777778,
              "#fb9f3a"
             ],
             [
              0.8888888888888888,
              "#fdca26"
             ],
             [
              1,
              "#f0f921"
             ]
            ],
            "type": "histogram2d"
           }
          ],
          "histogram2dcontour": [
           {
            "colorbar": {
             "outlinewidth": 0,
             "ticks": ""
            },
            "colorscale": [
             [
              0,
              "#0d0887"
             ],
             [
              0.1111111111111111,
              "#46039f"
             ],
             [
              0.2222222222222222,
              "#7201a8"
             ],
             [
              0.3333333333333333,
              "#9c179e"
             ],
             [
              0.4444444444444444,
              "#bd3786"
             ],
             [
              0.5555555555555556,
              "#d8576b"
             ],
             [
              0.6666666666666666,
              "#ed7953"
             ],
             [
              0.7777777777777778,
              "#fb9f3a"
             ],
             [
              0.8888888888888888,
              "#fdca26"
             ],
             [
              1,
              "#f0f921"
             ]
            ],
            "type": "histogram2dcontour"
           }
          ],
          "mesh3d": [
           {
            "colorbar": {
             "outlinewidth": 0,
             "ticks": ""
            },
            "type": "mesh3d"
           }
          ],
          "parcoords": [
           {
            "line": {
             "colorbar": {
              "outlinewidth": 0,
              "ticks": ""
             }
            },
            "type": "parcoords"
           }
          ],
          "pie": [
           {
            "automargin": true,
            "type": "pie"
           }
          ],
          "scatter": [
           {
            "fillpattern": {
             "fillmode": "overlay",
             "size": 10,
             "solidity": 0.2
            },
            "type": "scatter"
           }
          ],
          "scatter3d": [
           {
            "line": {
             "colorbar": {
              "outlinewidth": 0,
              "ticks": ""
             }
            },
            "marker": {
             "colorbar": {
              "outlinewidth": 0,
              "ticks": ""
             }
            },
            "type": "scatter3d"
           }
          ],
          "scattercarpet": [
           {
            "marker": {
             "colorbar": {
              "outlinewidth": 0,
              "ticks": ""
             }
            },
            "type": "scattercarpet"
           }
          ],
          "scattergeo": [
           {
            "marker": {
             "colorbar": {
              "outlinewidth": 0,
              "ticks": ""
             }
            },
            "type": "scattergeo"
           }
          ],
          "scattergl": [
           {
            "marker": {
             "colorbar": {
              "outlinewidth": 0,
              "ticks": ""
             }
            },
            "type": "scattergl"
           }
          ],
          "scattermapbox": [
           {
            "marker": {
             "colorbar": {
              "outlinewidth": 0,
              "ticks": ""
             }
            },
            "type": "scattermapbox"
           }
          ],
          "scatterpolar": [
           {
            "marker": {
             "colorbar": {
              "outlinewidth": 0,
              "ticks": ""
             }
            },
            "type": "scatterpolar"
           }
          ],
          "scatterpolargl": [
           {
            "marker": {
             "colorbar": {
              "outlinewidth": 0,
              "ticks": ""
             }
            },
            "type": "scatterpolargl"
           }
          ],
          "scatterternary": [
           {
            "marker": {
             "colorbar": {
              "outlinewidth": 0,
              "ticks": ""
             }
            },
            "type": "scatterternary"
           }
          ],
          "surface": [
           {
            "colorbar": {
             "outlinewidth": 0,
             "ticks": ""
            },
            "colorscale": [
             [
              0,
              "#0d0887"
             ],
             [
              0.1111111111111111,
              "#46039f"
             ],
             [
              0.2222222222222222,
              "#7201a8"
             ],
             [
              0.3333333333333333,
              "#9c179e"
             ],
             [
              0.4444444444444444,
              "#bd3786"
             ],
             [
              0.5555555555555556,
              "#d8576b"
             ],
             [
              0.6666666666666666,
              "#ed7953"
             ],
             [
              0.7777777777777778,
              "#fb9f3a"
             ],
             [
              0.8888888888888888,
              "#fdca26"
             ],
             [
              1,
              "#f0f921"
             ]
            ],
            "type": "surface"
           }
          ],
          "table": [
           {
            "cells": {
             "fill": {
              "color": "#EBF0F8"
             },
             "line": {
              "color": "white"
             }
            },
            "header": {
             "fill": {
              "color": "#C8D4E3"
             },
             "line": {
              "color": "white"
             }
            },
            "type": "table"
           }
          ]
         },
         "layout": {
          "annotationdefaults": {
           "arrowcolor": "#2a3f5f",
           "arrowhead": 0,
           "arrowwidth": 1
          },
          "autotypenumbers": "strict",
          "coloraxis": {
           "colorbar": {
            "outlinewidth": 0,
            "ticks": ""
           }
          },
          "colorscale": {
           "diverging": [
            [
             0,
             "#8e0152"
            ],
            [
             0.1,
             "#c51b7d"
            ],
            [
             0.2,
             "#de77ae"
            ],
            [
             0.3,
             "#f1b6da"
            ],
            [
             0.4,
             "#fde0ef"
            ],
            [
             0.5,
             "#f7f7f7"
            ],
            [
             0.6,
             "#e6f5d0"
            ],
            [
             0.7,
             "#b8e186"
            ],
            [
             0.8,
             "#7fbc41"
            ],
            [
             0.9,
             "#4d9221"
            ],
            [
             1,
             "#276419"
            ]
           ],
           "sequential": [
            [
             0,
             "#0d0887"
            ],
            [
             0.1111111111111111,
             "#46039f"
            ],
            [
             0.2222222222222222,
             "#7201a8"
            ],
            [
             0.3333333333333333,
             "#9c179e"
            ],
            [
             0.4444444444444444,
             "#bd3786"
            ],
            [
             0.5555555555555556,
             "#d8576b"
            ],
            [
             0.6666666666666666,
             "#ed7953"
            ],
            [
             0.7777777777777778,
             "#fb9f3a"
            ],
            [
             0.8888888888888888,
             "#fdca26"
            ],
            [
             1,
             "#f0f921"
            ]
           ],
           "sequentialminus": [
            [
             0,
             "#0d0887"
            ],
            [
             0.1111111111111111,
             "#46039f"
            ],
            [
             0.2222222222222222,
             "#7201a8"
            ],
            [
             0.3333333333333333,
             "#9c179e"
            ],
            [
             0.4444444444444444,
             "#bd3786"
            ],
            [
             0.5555555555555556,
             "#d8576b"
            ],
            [
             0.6666666666666666,
             "#ed7953"
            ],
            [
             0.7777777777777778,
             "#fb9f3a"
            ],
            [
             0.8888888888888888,
             "#fdca26"
            ],
            [
             1,
             "#f0f921"
            ]
           ]
          },
          "colorway": [
           "#636efa",
           "#EF553B",
           "#00cc96",
           "#ab63fa",
           "#FFA15A",
           "#19d3f3",
           "#FF6692",
           "#B6E880",
           "#FF97FF",
           "#FECB52"
          ],
          "font": {
           "color": "#2a3f5f"
          },
          "geo": {
           "bgcolor": "white",
           "lakecolor": "white",
           "landcolor": "#E5ECF6",
           "showlakes": true,
           "showland": true,
           "subunitcolor": "white"
          },
          "hoverlabel": {
           "align": "left"
          },
          "hovermode": "closest",
          "mapbox": {
           "style": "light"
          },
          "paper_bgcolor": "white",
          "plot_bgcolor": "#E5ECF6",
          "polar": {
           "angularaxis": {
            "gridcolor": "white",
            "linecolor": "white",
            "ticks": ""
           },
           "bgcolor": "#E5ECF6",
           "radialaxis": {
            "gridcolor": "white",
            "linecolor": "white",
            "ticks": ""
           }
          },
          "scene": {
           "xaxis": {
            "backgroundcolor": "#E5ECF6",
            "gridcolor": "white",
            "gridwidth": 2,
            "linecolor": "white",
            "showbackground": true,
            "ticks": "",
            "zerolinecolor": "white"
           },
           "yaxis": {
            "backgroundcolor": "#E5ECF6",
            "gridcolor": "white",
            "gridwidth": 2,
            "linecolor": "white",
            "showbackground": true,
            "ticks": "",
            "zerolinecolor": "white"
           },
           "zaxis": {
            "backgroundcolor": "#E5ECF6",
            "gridcolor": "white",
            "gridwidth": 2,
            "linecolor": "white",
            "showbackground": true,
            "ticks": "",
            "zerolinecolor": "white"
           }
          },
          "shapedefaults": {
           "line": {
            "color": "#2a3f5f"
           }
          },
          "ternary": {
           "aaxis": {
            "gridcolor": "white",
            "linecolor": "white",
            "ticks": ""
           },
           "baxis": {
            "gridcolor": "white",
            "linecolor": "white",
            "ticks": ""
           },
           "bgcolor": "#E5ECF6",
           "caxis": {
            "gridcolor": "white",
            "linecolor": "white",
            "ticks": ""
           }
          },
          "title": {
           "x": 0.05
          },
          "xaxis": {
           "automargin": true,
           "gridcolor": "white",
           "linecolor": "white",
           "ticks": "",
           "title": {
            "standoff": 15
           },
           "zerolinecolor": "white",
           "zerolinewidth": 2
          },
          "yaxis": {
           "automargin": true,
           "gridcolor": "white",
           "linecolor": "white",
           "ticks": "",
           "title": {
            "standoff": 15
           },
           "zerolinecolor": "white",
           "zerolinewidth": 2
          }
         }
        },
        "xaxis": {
         "anchor": "y",
         "domain": [
          0,
          1
         ],
         "title": {
          "text": "x"
         }
        },
        "yaxis": {
         "anchor": "x",
         "domain": [
          0,
          1
         ],
         "title": {
          "text": "y"
         }
        }
       }
      }
     },
     "metadata": {},
     "output_type": "display_data"
    }
   ],
   "source": [
    "## Visualization using UMAP\n",
    "\n",
    "best_params_silhouette = results_df.sort_values(by=\"silhouette_score\", ascending=False).iloc[0]\n",
    "print(f\"Best Parameters based on Silhouette Score: {best_params_silhouette}\")\n",
    "\n",
    "best_params_davies = results_df.sort_values(by=\"davies_bouldin\", ascending=True).iloc[0]\n",
    "print(f\"Best Parameters based on Davies Bouldin Score: {best_params_davies}\")\n",
    "\n",
    "if best_params_silhouette.equals(best_params_davies):\n",
    "    best_params = best_params_silhouette\n",
    "    print(\"Both metrics agree on the best parameters\")\n",
    "else:\n",
    "    best_params = best_params_silhouette\n",
    "    print(\"Metrics do not agree on the best parameters, Using Silhouette Score as the best parameters\")\n",
    "\n",
    "best_min_samples = int(best_params.min_samples)\n",
    "best_min_cluster_size = int(best_params.min_cluster_size)\n",
    "best_clusterer = hdbscan.HDBSCAN(min_samples=best_min_samples, min_cluster_size=best_min_cluster_size)\n",
    "best_labels = best_clusterer.fit_predict(embeddings)\n",
    "\n",
    "umap = UMAP(n_components=2, random_state=42, n_neighbors=80, min_dist=0.1)\n",
    "df_umap = (\n",
    "    pd.DataFrame(umap.fit_transform(np.array(embeddings)), columns=[\"x\", \"y\"])\n",
    "    .assign(cluster=lambda df: best_labels.astype(str))\n",
    "    .query('cluster != \"-1\"')\n",
    "    .sort_values(by=\"cluster\")\n",
    ")\n",
    "\n",
    "fig = px.scatter(df_umap, x=\"x\", y=\"y\", color=\"cluster\")\n",
    "fig.show()"
   ]
  },
  {
   "cell_type": "markdown",
   "metadata": {},
   "source": [
    "## Create a Topic per Cluster"
   ]
  },
  {
   "cell_type": "code",
   "execution_count": 72,
   "metadata": {},
   "outputs": [],
   "source": [
    "df[\"cluster\"] = best_labels\n",
    "df[\"cluster_name\"] = \"Uncategorized\"\n",
    "\n",
    "def generate_topic_titles():\n",
    "    system_msg = \"You are an expert journalist. You're helping me write short but compelling topic titles for groups of news articles.\"\n",
    "    user_template = \"Using the following articles, writea 4 to 5 word title that summarizes them. \\n\\nARTICLES:\\n\\n{}\\n\\nTOPIC TITLE:\"\n",
    "\n",
    "    for c in df.cluster.unique():\n",
    "        sample_articles = df.query(f\"cluster == {c}\").to_dict(orient=\"records\")\n",
    "        articles_str = \"\\n\\n\".join(\n",
    "            [\n",
    "                f\"[{i}] {article['title']}\\n{article['description'][:30]}{'...' if len(article['description']) > 30 else ''}\"\n",
    "                for i, article in enumerate(\n",
    "                    sample_articles, start=1\n",
    "                )\n",
    "            ]\n",
    "        )\n",
    "        messages = [\n",
    "            {\"role\": \"system\", \"content\": system_msg},\n",
    "            {\"role\": \"user\", \"content\": user_template.format(articles_str)}\n",
    "        ]\n",
    "        response = client.chat.completions.create(\n",
    "            model=\"gpt-3.5-turbo\",\n",
    "            messages=messages,\n",
    "            temperature=0.7,\n",
    "            seed=42\n",
    "        )\n",
    "\n",
    "        topic_title = response.choices[0].message.content\n",
    "        df.loc[df.cluster == c, \"cluster_name\"] = topic_title\n",
    "        print(f\"Cluster {c} - {topic_title}\")"
   ]
  },
  {
   "cell_type": "code",
   "execution_count": 73,
   "metadata": {},
   "outputs": [
    {
     "name": "stdout",
     "output_type": "stream",
     "text": [
      "Cluster 5 - \"Harvey Weinstein's Conviction Overturned: Backlash and Reactions\"\n",
      "Cluster 10 - \"Campus Clashes Over Gaza Protests\"\n",
      "Cluster -1 - Global Events Impacting Society\n",
      "Cluster 0 - \"Political Turmoil Surrounding Spanish PM\"\n",
      "Cluster 6 - \"Supreme Court Debates Trump's Immunity\"\n",
      "Cluster 9 - \"US Military Aid Boosts Ukraine\"\n",
      "Cluster 3 - \"Big Tech AI Investment Impact\"\n",
      "Cluster 8 - \"US-China Relations: Blinken's Diplomatic Efforts\"\n",
      "Cluster 11 - \"Intense negotiation efforts in Gaza\"\n",
      "Cluster 7 - \"TikTok's Global Battle Unfolds\"\n",
      "Cluster 4 - \"Corporate Giants Clash: BHP vs Anglo American\"\n",
      "Cluster 1 - \"Soccer Stories: League Updates & Dramatic Matches\"\n",
      "Cluster 2 - \"Economic Data Sparks Investor Concern\"\n"
     ]
    }
   ],
   "source": [
    "generate_topic_titles()"
   ]
  },
  {
   "cell_type": "code",
   "execution_count": 76,
   "metadata": {},
   "outputs": [
    {
     "name": "stdout",
     "output_type": "stream",
     "text": [
      "\"Soccer Stories: League Updates & Dramatic Matches\"\n",
      "45\n"
     ]
    },
    {
     "data": {
      "text/html": [
       "<div>\n",
       "<style scoped>\n",
       "    .dataframe tbody tr th:only-of-type {\n",
       "        vertical-align: middle;\n",
       "    }\n",
       "\n",
       "    .dataframe tbody tr th {\n",
       "        vertical-align: top;\n",
       "    }\n",
       "\n",
       "    .dataframe thead th {\n",
       "        text-align: right;\n",
       "    }\n",
       "</style>\n",
       "<table border=\"1\" class=\"dataframe\">\n",
       "  <thead>\n",
       "    <tr style=\"text-align: right;\">\n",
       "      <th></th>\n",
       "      <th>title</th>\n",
       "      <th>description</th>\n",
       "      <th>venue</th>\n",
       "      <th>url</th>\n",
       "      <th>published_at</th>\n",
       "      <th>updated_at</th>\n",
       "      <th>cluster</th>\n",
       "    </tr>\n",
       "  </thead>\n",
       "  <tbody>\n",
       "    <tr>\n",
       "      <th>168</th>\n",
       "      <td>Brighton v Manchester City: Premier League – live</td>\n",
       "      <td>Premier League live updates from the 8pm BST kick-offLive scoreboard | Read Football Daily | And email Scott5 min: Joao Pedro steals the ball in midfield and races into the City half. He’s got options on either side but takes the wrong one, passing to Veltman on his right. Veltman runs into trouble immediately and the counter peters out. “Greetings from Virginia,” begins Eagle Brosi. “The quality of the American league is so poor that I’m usually happy to catch any EPL match but I find Pep without Jack Grealish to be so so boring. There’s something so horribly funny about watching Jack, with his tiny shinpads, run into his opponent, fall down and see the ref just get totally conned. I guess spending the preseason drunk isn’t wise? But I miss the only likeable/watchable thing about this City team. Here’s hoping he gets at least a 15-minute cameo.”3 min: Gross makes a nuisance of himself down the inside-left channel. The ball breaks to Welbeck, arriving on the overlap. Welbeck lashes a low first-time effort towards the bottom right, but Ederson fields it at full stretch. A bright start by both teams. Continue reading...</td>\n",
       "      <td>The Guardian</td>\n",
       "      <td>https://www.theguardian.com/football/live/2024/apr/25/brighton-v-manchester-city-premier-league-live</td>\n",
       "      <td>2024-04-25 20:06:00+00</td>\n",
       "      <td>2024-04-26 20:03:02.275976+00</td>\n",
       "      <td>1</td>\n",
       "    </tr>\n",
       "    <tr>\n",
       "      <th>172</th>\n",
       "      <td>England’s Marlie Packer: ‘I’d give my son the world – dad did none of that for me’</td>\n",
       "      <td>Captain reflects on her mum being a ‘rock’ and the Red Roses’ new coach as they chase another Six Nations grand slam‘We’re in France and the crowd is going to be hostile,” Marlie Packer says as she looks ahead to Saturday’s Six Nations grand slam&amp;nbsp;decider in Bordeaux with relish. “But we know that can flip on its head because of the French crowd. If they’re not happy with the way their team are playing, they&amp;nbsp;turn on&amp;nbsp;them and give them a bit of a&amp;nbsp;hard time.”Packer will win her 104th cap and, as captain, she also knows England have not lost a Six Nations match in six years. She played in that last defeat, away to France in Grenoble in March 2018, and so she has an acute awareness of the light and shade in rugby and life. Packer has lost two agonising World Cup finals, to New Zealand, but she helped England win the tournament in 2014. Continue reading...</td>\n",
       "      <td>The Guardian</td>\n",
       "      <td>https://www.theguardian.com/sport/2024/apr/25/marlie-packer-england-women-rugby-union-six-nations-grand-slam</td>\n",
       "      <td>2024-04-25 18:00:16+00</td>\n",
       "      <td>2024-04-26 20:03:02.345321+00</td>\n",
       "      <td>1</td>\n",
       "    </tr>\n",
       "    <tr>\n",
       "      <th>180</th>\n",
       "      <td>Have Everton dashed Liverpool’s title dreams? – Football Weekly Extra</td>\n",
       "      <td>Max Rushden is joined by Barry Glendenning, Jonathan Liew and Robyn Cowen as Liverpool lose the Merseyside derby … and maybe moreRate, review, share on Apple Podcasts, Soundcloud, Audioboom, Mixcloud, Acast and Stitcher, and join the conversation on Facebook, Twitter and email.On the podcast today: Everton sink Liverpool in a Merseyside derby that could be the end of the Reds’ title hopes, and which may well be enough to secure the Toffees’ Premier League status. Continue reading...</td>\n",
       "      <td>The Guardian</td>\n",
       "      <td>https://www.theguardian.com/football/audio/2024/apr/25/have-everton-dashed-liverpool-title-dreams-football-weekly-extra-podcast</td>\n",
       "      <td>2024-04-25 10:48:29+00</td>\n",
       "      <td>2024-04-26 20:03:02.476884+00</td>\n",
       "      <td>1</td>\n",
       "    </tr>\n",
       "    <tr>\n",
       "      <th>181</th>\n",
       "      <td>Arsenal thrash Chelsea and a Football League update – Football Weekly</td>\n",
       "      <td>Max Rushden is joined by Barry Glendenning, Ben Fisher, Sanny Rudravajhala and George Elek as Arsenal beat Chelsea 5-0 and to run through the EFL as those divisions reach a conclusion in the coming weeksRate, review, share on Apple Podcasts, Soundcloud, Audioboom, Mixcloud, Acast and Stitcher, and join the conversation on Facebook, Twitter and email.On the podcast today; Arsenal keep pace at the top of the Premier League – were they brilliant or are Chelsea inexcusably bad? It’s probably a touch of both. Continue reading...</td>\n",
       "      <td>The Guardian</td>\n",
       "      <td>https://www.theguardian.com/football/audio/2024/apr/24/arsenal-thrash-chelsea-and-a-football-league-update-football-weekly</td>\n",
       "      <td>2024-04-24 11:19:51+00</td>\n",
       "      <td>2024-04-26 20:03:02.491513+00</td>\n",
       "      <td>1</td>\n",
       "    </tr>\n",
       "    <tr>\n",
       "      <th>182</th>\n",
       "      <td>An episode from Women’s Football Weekly – Fifpro exclusive interview</td>\n",
       "      <td>Faye Carruthers is joined by Suzanne Wrack for an exclusive interview with Fifpro representatives Sarah Gregorius and Alex Culvin, plus Dutch International player, Merel van Dongen, to discuss how the number of games elite athletes are playing is impacting them on and off the pitch. Also, Sophie Downey joins to round up all the weekend’s action in the Champion’s League and WSLFrom our sister pod today; the panel brings you an exclusive interview with representatives from the global players’ union – Fifpro – who, alongside Netherlands defender Merel van Dongen, share their views on how the number of games elite athletes are playing is impacting them on and off the pitch.The panel also discusses Chelsea’s inspired Champions League win, Manchester City retaking the lead in the WSL, Arsenal securing European football, Palace on the brink of lifting the Championship and Lewes’s relegation …If you haven’t already, make sure to subscribe to Women’s Football Weekly to keep informed about the biggest stories in the global game. Continue reading...</td>\n",
       "      <td>The Guardian</td>\n",
       "      <td>https://www.theguardian.com/football/audio/2024/apr/23/an-episode-from-womens-football-weekly-fifpro-exclusive-interview</td>\n",
       "      <td>2024-04-23 14:14:49+00</td>\n",
       "      <td>2024-04-26 20:03:02.51351+00</td>\n",
       "      <td>1</td>\n",
       "    </tr>\n",
       "    <tr>\n",
       "      <th>183</th>\n",
       "      <td>Fifpro exclusive interview and Chelsea stifle Barça – Women’s Football Weekly</td>\n",
       "      <td>Faye Carruthers is joined by Suzanne Wrack for an interview with Fifpro representatives, Sarah Gregorius and Alex Culvin, plus Dutch international, Merel van Dongen, to discuss how footballers are being affected by the packed schedule. Also, Sophie Downey rounds up the weekend action in the Champion’s League and WSLToday’s pod features an exclusive interview with representatives from the global players’ union, Fifpro, who, alongside the Netherlands defender Merel van Dongen, share their views on how footballers are being affected by the packed schedule.The panel also discuss Chelsea's inspired Champions League win against Barcelona, Manchester City retaking the WSL lead, Arsenal securing European football, Palace's Championship title charge and relegation for Lewes … Continue reading...</td>\n",
       "      <td>The Guardian</td>\n",
       "      <td>https://www.theguardian.com/football/audio/2024/apr/23/fifpro-exclusive-interview-womens-football-weekly</td>\n",
       "      <td>2024-04-23 13:54:51+00</td>\n",
       "      <td>2024-04-26 20:03:02.527488+00</td>\n",
       "      <td>1</td>\n",
       "    </tr>\n",
       "    <tr>\n",
       "      <th>192</th>\n",
       "      <td>Manchester City fire title warning with Phil Foden on song against Brighton</td>\n",
       "      <td>Almost ten years ago to the day, Steven Gerrard slipped, Liverpool lost control of their destiny in terms of the Premier League title race and Manchester City nipped in to win it.The talk in recent weeks and certainly since Arsenal and Liverpool lost on the Saturday before last has been about whether City might have a slip of their own in them, something that – frankly – they have never done previously under Pep Guardiola when the trophy has been within their grasp, the focus narrowing over the run-in. Continue reading...</td>\n",
       "      <td>The Guardian</td>\n",
       "      <td>https://www.theguardian.com/football/2024/apr/25/brighton-manchester-city-premier-league-match-report</td>\n",
       "      <td>2024-04-25 21:02:25+00</td>\n",
       "      <td>2024-04-26 20:03:02.629692+00</td>\n",
       "      <td>1</td>\n",
       "    </tr>\n",
       "    <tr>\n",
       "      <th>193</th>\n",
       "      <td>Sean Dyche defends his Everton tactics: ‘Not a time for style, a time to win’</td>\n",
       "      <td>Manager says his club want to play ‘winning football first’Beating Brentford could secure Premier League survivalSean Dyche has insisted he will not be judged on playing style at ­Everton but by winning as he strives to secure the Premier League status of the ­financially troubled club.They took a significant step towards that goal on Wednesday by winning the Merseyside derby for the first time in 14 years at Goodison Park. After the 2-0 defeat of Liverpool Dyche, conscious of the criticism his approach attracted during a run of 13 games without a win, claimed he wanted “to play beautiful football if I can, but I want to play winning football first.” Continue reading...</td>\n",
       "      <td>The Guardian</td>\n",
       "      <td>https://www.theguardian.com/football/2024/apr/25/sean-dyche-defends-his-everton-tactics-not-a-time-for-style-a-time-to-win</td>\n",
       "      <td>2024-04-25 21:30:20+00</td>\n",
       "      <td>2024-04-26 20:03:02.638669+00</td>\n",
       "      <td>1</td>\n",
       "    </tr>\n",
       "    <tr>\n",
       "      <th>197</th>\n",
       "      <td>Premier League: 10 things to look out for in this weekend’s football</td>\n",
       "      <td>Liverpool await a dead-ball salvo, Luton have to keep their chins up, and things could get spicy at the City GroundDavid Moyes will surely have taken note of Liverpool’s struggle to defend set pieces against Everton. Jürgen Klopp, who must be delighted with a 12.30pm kick-off on Saturday, should prepare his team for another bruising test when they visit West Ham. For Moyes, this is a chance to repair the sizeable damage to his reputation caused by last weekend’s collapse at Selhurst Park. West Ham were 4-0 down to Palace after 31 minutes and are preparing to part company with Moyes at the end of the season, but they should take heart from how Everton unsettled Liverpool in the Merseyside derby. Everton scored twice from set pieces and West Ham pose a similar threat from dead balls. James Ward-Prowse’s deliveries towards Tomas Soucek, Kurt Zouma and Michail Antonio will have Klopp’s defenders sweating. Jacob SteinbergWest Ham v Liverpool, Saturday 12.30pm (all times BST)Fulham v Crystal Palace, Saturday 3pmNewcastle v Sheffield United, Saturday 3pmManchester United v Burnley, Saturday 3pm Continue reading...</td>\n",
       "      <td>The Guardian</td>\n",
       "      <td>https://www.theguardian.com/football/2024/apr/26/premier-league-10-things-to-look-out-for-in-this-weekend-football</td>\n",
       "      <td>2024-04-25 23:00:23+00</td>\n",
       "      <td>2024-04-26 20:03:02.681405+00</td>\n",
       "      <td>1</td>\n",
       "    </tr>\n",
       "    <tr>\n",
       "      <th>208</th>\n",
       "      <td>Manchester City’s well-oiled winning machine shows no sign of exhaustion</td>\n",
       "      <td>Pep Guardiola’s complaints about his team’s tiredness were hard to believe as they strolled to victory against BrightonIt had been tempting to wonder if some kind of elaborate gag was taking place when the Brighton fan and noted stamina enthusiast “The Hardest Geezer” was paraded on the pitch before kick-off at the Amex Stadium. What was that, Pep? Your team’s a bit tired? Why not tell it to the guy who’s just become the first person in history to run the length of Africa? He must be dying to hear about Bernardo Silva’s hamstrings.Nobody is really buying it. The thing about City is that they are built to go the distance. Not only do they have the best technicians in the league, they also have a team packed with physical power. Continue reading...</td>\n",
       "      <td>The Guardian</td>\n",
       "      <td>https://www.theguardian.com/football/2024/apr/25/manchester-citys-well-oiled-winning-machine-shows-no-sign-of-exhaustion</td>\n",
       "      <td>2024-04-25 21:40:42+00</td>\n",
       "      <td>2024-04-26 20:03:02.794284+00</td>\n",
       "      <td>1</td>\n",
       "    </tr>\n",
       "    <tr>\n",
       "      <th>216</th>\n",
       "      <td>Manchester City turn up heat on title rivals before big weekend: football news – live</td>\n",
       "      <td>Premier League: 10 things to look out for this weekendSign up for Football Daily | And send Dominic an emailEddie Howe says Newcastle trio Nick Pope, Joelinton and Miguel Almiron “are getting closer” to full fitness, while Tino Livramento remains a doubt for their home clash with Sheffield United; he has an ankle problem. Callum Wilson returned in the midweek defeat to Crystal Palace, with Howe desperate for some kind of reaction to his team’s surprisingly limp performance at Selhurst Park.We were disappointing, we acknowledge that and hold our hands up to it. We missed those resilient qualities that we need and that has been too often the case away from home. We have to do better. We must learn and absorb all the lessons from Wednesday.Every game is so difficult, it is up to us to firstly go into the game with the right mentality and let our players express themselves in the right way. We have to finish the season strongly, we are under no illusions on how important these fixtures are. Continue reading...</td>\n",
       "      <td>The Guardian</td>\n",
       "      <td>https://www.theguardian.com/football/live/2024/apr/26/weekend-football-countdown-premier-league-championship-europe</td>\n",
       "      <td>2024-04-26 09:36:50+00</td>\n",
       "      <td>2024-04-26 20:03:02.860927+00</td>\n",
       "      <td>1</td>\n",
       "    </tr>\n",
       "    <tr>\n",
       "      <th>242</th>\n",
       "      <td>Gareth Southgate to Manchester United is actually a good idea. So what’s the chance? | Barney Ronay</td>\n",
       "      <td>The England manager’s honesty and systems expertise are just what is needed at the haunted house Old Trafford has becomeAnd so we entered the age of the noble, blameless bald men. This is a pretty good moment to be Ineos at Manchester United. Nothing really matters yet. Every problem is someone else’s problem. Every solution is your own.For now you’re just hope, blue sky. You’re a silent reproach on a gantry. You’re a tieless Tony Blair jamming with Shed Seven in the Downing Street garden. And even the bad things are kind of good, because you’re not the bad things. Continue reading...</td>\n",
       "      <td>The Guardian</td>\n",
       "      <td>https://www.theguardian.com/football/2024/apr/26/gareth-southgate-to-manchester-united-is-actually-a-good-idea-so-whats-the-chance</td>\n",
       "      <td>2024-04-26 17:05:41+00</td>\n",
       "      <td>2024-04-26 20:03:03.151436+00</td>\n",
       "      <td>1</td>\n",
       "    </tr>\n",
       "    <tr>\n",
       "      <th>243</th>\n",
       "      <td>‘Best in the world’: Hayes mindful of Barcelona threat after away success</td>\n",
       "      <td>Chelsea take a lead into the Champions League semi-final second leg, with the manager plotting a tactical masterclass“It just feels like a longer half-time, that’s all it is,” said Emma Hayes matter-of-factly about the week-long wait between Chelsea’s 1-0 Champions League defeat of Barcelona and the second leg at Stamford Bridge on Saturday evening.“We’re at the midway stage of a game that’s a minimum of 180 minutes long. There may be adjustments for half-time and we’re ready for the second half, that’s how I present it to the players.” Continue reading...</td>\n",
       "      <td>The Guardian</td>\n",
       "      <td>https://www.theguardian.com/football/2024/apr/26/best-in-the-world-chelsea-emma-hayes-mindful-of-barcelona-threat-after-away-success-champions-league</td>\n",
       "      <td>2024-04-26 17:49:15+00</td>\n",
       "      <td>2024-04-26 20:03:03.16845+00</td>\n",
       "      <td>1</td>\n",
       "    </tr>\n",
       "    <tr>\n",
       "      <th>244</th>\n",
       "      <td>Calendar ‘getting to tipping point’ with bigger Club World Cup, Masters warns</td>\n",
       "      <td>Premier League CEO unhappy with lack of Fifa consultationManchester City’s 115 charges to be resolved ‘in near future’Richard Masters has criticised Fifa for failing to consult domestic leagues over its plans for an expanded Club World Cup, whose inaugural edition in the United States is set to occupy a month of the 2025 summer break.As the chief executive of the Premier League reiterated that Manchester City’s 115 charges will be resolved in “the near future”, with hearings set to take place in the autumn, league officials from across Europe came together to issue a warning over an ever-expanding club calendar, with Fifa’s new competition the main target. Continue reading...</td>\n",
       "      <td>The Guardian</td>\n",
       "      <td>https://www.theguardian.com/football/2024/apr/26/football-calendar-tipping-point-bigger-club-world-cup-richard-masters</td>\n",
       "      <td>2024-04-26 17:40:07+00</td>\n",
       "      <td>2024-04-26 20:03:03.181513+00</td>\n",
       "      <td>1</td>\n",
       "    </tr>\n",
       "    <tr>\n",
       "      <th>245</th>\n",
       "      <td>QPR v Leeds United: Championship – live</td>\n",
       "      <td>Championship updates, 8pm BST kick-off at Loftus RoadLive scoreboard | Read Football Daily | And you can mail TahaHere’s John Brewin, by the way, making his case.So Leeds are without Patrick Bamford; in comes Joël Piroe to lead the line. QPR have the same XI that beat Preston. Continue reading...</td>\n",
       "      <td>The Guardian</td>\n",
       "      <td>https://www.theguardian.com/football/live/2024/apr/26/qpr-v-leeds-united-championship-live</td>\n",
       "      <td>2024-04-26 18:30:44+00</td>\n",
       "      <td>2024-04-26 20:03:03.201508+00</td>\n",
       "      <td>1</td>\n",
       "    </tr>\n",
       "    <tr>\n",
       "      <th>246</th>\n",
       "      <td>Spurs could not stop Arsenal’s Invincibles – can they derail the Arteta project? | David Hytner</td>\n",
       "      <td>Memories of 2004 still sting and in Sunday’s derby Tottenham have the chance to take a wrecking ball to Arsenal’s title hopesIt would not scan like the original Arsenal terrace chant. “We took a big step towards winning the league at the Tottenham Hotspur Stadium.” The prospect, though, is real. And before Sunday’s derby – the 195th edition of the fixture that determines the mood in north London – it is utterly sickening for Spurs supporters.Spurs could not stop the Arsenal Invincibles in April 2004 and it is fair to say they have not heard the end of it since. Nor was that the first time their hated rivals had won the league at White Hart Lane. Arsenal did exactly that on the final day of the 1970-71 season when Ray Kennedy’s late header gave them a 1-0 victory. Continue reading...</td>\n",
       "      <td>The Guardian</td>\n",
       "      <td>https://www.theguardian.com/football/2024/apr/26/spurs-could-not-stop-the-invincibles-can-they-deny-arteta-arsenal</td>\n",
       "      <td>2024-04-26 19:00:13+00</td>\n",
       "      <td>2024-04-26 20:03:03.2163+00</td>\n",
       "      <td>1</td>\n",
       "    </tr>\n",
       "    <tr>\n",
       "      <th>404</th>\n",
       "      <td>Leicester promoted to Premier League after Leeds crash to heavy defeat at QPR</td>\n",
       "      <td>Across 90 raucous minutes in west London Leeds lost control of this crucial game and with it their future.They hoped this would be another step on a sprint to promotion but instead they stumbled, and QPR’s emphatic and fully deserved victory not only secured their own place in the Championship it also promoted Leicester, who will travel to Preston on Monday in the knowledge that their return to the Premier League at the first attempt is certain. Continue reading...</td>\n",
       "      <td>The Guardian</td>\n",
       "      <td>https://www.theguardian.com/football/2024/apr/26/qpr-leeds-championship-match-report</td>\n",
       "      <td>2024-04-26 21:06:25+00</td>\n",
       "      <td>2024-04-27 01:32:46.567875+00</td>\n",
       "      <td>1</td>\n",
       "    </tr>\n",
       "    <tr>\n",
       "      <th>405</th>\n",
       "      <td>A Premier League return is the only certainty in Leicester’s cloudy future</td>\n",
       "      <td>Enzo Maresca’s side kept their heads to secure promotion but financial worries loom large as club prepare for the top flightA campaign that began with Enzo Maresca insisting his Leicester City players sleep overnight at their sprawling, 185-acre Seagrave training base for the first week of pre-season in the name of team building has ended with their primary mission accomplished, promotion boxed off, the Championship crown likely to follow. Leicester’s most memorable and marvellous moment came when they confounded expectations; this time, it was a case of simply meeting them by getting back to the Premier League at the first attempt.Perhaps it should come as no surprise that surely the most expensively assembled squad in the division – their wage bill was the biggest outside the Premier League top six 12 months ago – has sealed that return after Leeds lost at QPR on Friday night but it turned into a slog after they ceded a 17-point lead. In the last couple of months, their 51-game season has flitted between a sense of collapse and catharsis. “It has been a very long season,” Maresca said with a wry smile this week. Continue reading...</td>\n",
       "      <td>The Guardian</td>\n",
       "      <td>https://www.theguardian.com/football/2024/apr/26/a-premier-league-return-is-the-only-certainty-in-leicesters-cloudy-future</td>\n",
       "      <td>2024-04-26 21:08:38+00</td>\n",
       "      <td>2024-04-27 01:32:46.57714+00</td>\n",
       "      <td>1</td>\n",
       "    </tr>\n",
       "    <tr>\n",
       "      <th>406</th>\n",
       "      <td>‘It’s like juggling sand’: Sean Dyche’s rebuild hit by uncertain Everton future</td>\n",
       "      <td>Premier League remain unconvinced by 777 Partners takeoverEverton could confirm top-flight survival against BrentfordSean Dyche has likened his job as Everton’s manager to “juggling sand” amid protracted uncertainty over the club’s ownership and financial future.Dyche admits there will be no assurances over his summer transfer plans even in the event of securing the club’s Premier League status on Saturday. Everton can guarantee survival with victory against Brentford at Goodison Park providing Luton do not win at Wolves. Continue reading...</td>\n",
       "      <td>The Guardian</td>\n",
       "      <td>https://www.theguardian.com/football/2024/apr/26/its-like-juggling-sand-sean-dyche-rebuild-hit-by-uncertain-everton-future</td>\n",
       "      <td>2024-04-26 21:30:17+00</td>\n",
       "      <td>2024-04-27 01:32:46.584085+00</td>\n",
       "      <td>1</td>\n",
       "    </tr>\n",
       "    <tr>\n",
       "      <th>409</th>\n",
       "      <td>Arteta receives advice from Wenger for Arsenal’s crunch derby at Spurs</td>\n",
       "      <td>‘Invincibles’ won club’s last title at Tottenham 20 years agoArteta: ‘He always talked about that, about the fine margins’Mikel Arteta has been getting advice from Arsène Wenger as Arsenal prepare for Sunday’s north London derby almost exactly 20 years after “the Invincibles” won the club’s last Premier League title at the home of their rivals Tottenham.An Arsenal victory at Spurs would re-establish their four-point advantage over Manchester City before Pep Guardiola’s side face Nottingham Forest later in the day. City will start that match with two games in hand and Arteta insists Liverpool are not out of contention despite their defeat by Everton. Continue reading...</td>\n",
       "      <td>The Guardian</td>\n",
       "      <td>https://www.theguardian.com/football/2024/apr/26/mikel-arteta-arsene-wenger-arsenal-tottenham-premier-league-football</td>\n",
       "      <td>2024-04-26 21:30:17+00</td>\n",
       "      <td>2024-04-27 01:32:46.591427+00</td>\n",
       "      <td>1</td>\n",
       "    </tr>\n",
       "    <tr>\n",
       "      <th>476</th>\n",
       "      <td>West Ham United v Liverpool: Premier League – live</td>\n",
       "      <td>Premier League updates from the 12.30pm BST kick-offLive scoreboard | Reds agree terms for Slot | And mail BarryWest Ham: Areola, Coufal, Zouma, Ogbonna, Emerson Palmieri, Soucek, Alvarez, Bowen, Lucas Paqueta, Kudus, Antonio.Subs: Fabianski, Johnson, Cresswell, Ward-Prowse, Phillips, Cornet, Ings, Casey, Mubama. Continue reading...</td>\n",
       "      <td>The Guardian</td>\n",
       "      <td>https://www.theguardian.com/football/live/2024/apr/27/west-ham-united-v-liverpool-premier-league-live</td>\n",
       "      <td>2024-04-27 10:33:50+00</td>\n",
       "      <td>2024-04-27 17:32:52.57324+00</td>\n",
       "      <td>1</td>\n",
       "    </tr>\n",
       "    <tr>\n",
       "      <th>494</th>\n",
       "      <td>Sheffield United relegated after thrashing by five-star Newcastle</td>\n",
       "      <td>By the end, Sheffield United were probably relieved that their next league assignment in the north-east will be at Sunderland or Middlesbrough. Long before the final whistle brought confirmation of a relegation to the Championship that the visiting manager, Chris Wilder, had already deemed “inevitable”, his players had seen more than enough of Newcastle and Alexander Isak in particular.Eddie Howe’s side have now scored 13 Premier League goals this season against the Blades. This latest quintet, with two registered by the excellent Isak, enhanced their hopes of hosting European nights at St James’ Park next season. Continue reading...</td>\n",
       "      <td>The Guardian</td>\n",
       "      <td>https://www.theguardian.com/football/2024/apr/27/sheffield-united-relegated-after-thrashing-by-five-star-newcastle</td>\n",
       "      <td>2024-04-27 16:16:46+00</td>\n",
       "      <td>2024-04-27 17:32:52.751277+00</td>\n",
       "      <td>1</td>\n",
       "    </tr>\n",
       "    <tr>\n",
       "      <th>495</th>\n",
       "      <td>Zeki Amdouni punishes Onana to grab Burnley a draw at Manchester United</td>\n",
       "      <td>The current Manchester United side, representing English football’s 20-time record champions, seriously struggle to hold on to a lead. It is the puzzle of Erik ten Hag’s vintage, an unwanted leitmotif of this lost season under the Dutchman as, once more, it happened here in yet another late capitulation.A careening Antony, close to tumbling over, appeared to be United’s hero, his strike beyond Arijanet Muric kissing the back of the Burnley net with the clock showing 79 minutes. But no. United hit self-destruct via the hapless act of André Onana, who wiped out Zeki Amdouni near his goal when Aaron Wan-Bissaka had already headed the ball clear. Continue reading...</td>\n",
       "      <td>The Guardian</td>\n",
       "      <td>https://www.theguardian.com/football/2024/apr/27/manchester-united-burnley-premier-league-match-report</td>\n",
       "      <td>2024-04-27 16:12:44+00</td>\n",
       "      <td>2024-04-27 17:32:52.759049+00</td>\n",
       "      <td>1</td>\n",
       "    </tr>\n",
       "    <tr>\n",
       "      <th>577</th>\n",
       "      <td>Manchester United v Burnley, Newcastle v Sheffield United, and more – live</td>\n",
       "      <td>All the action from the 3pm BST Premier League kick-offsLive scoreboard | Lopetegui set for Milan | And drop Scott a mailNewcastle United make two changes in the wake of their midweek 2-0 defeat at Crystal Palace. Lewis Hall and Tino Livramento replace Emil Krafth and Harvey Barnes, who both drop to the bench.Sheffield United are unchanged. They name the same starting XI that began the aforementioned 4-2 defeat at Old Trafford. Continue reading...</td>\n",
       "      <td>The Guardian</td>\n",
       "      <td>https://www.theguardian.com/football/live/2024/apr/27/manchester-united-v-burnley-newcastle-v-sheffield-united-and-more-live</td>\n",
       "      <td>2024-04-27 13:13:28+00</td>\n",
       "      <td>2024-04-27 23:02:43.20155+00</td>\n",
       "      <td>1</td>\n",
       "    </tr>\n",
       "    <tr>\n",
       "      <th>579</th>\n",
       "      <td>Liverpool title hopes almost over after Antonio earns West Ham a point</td>\n",
       "      <td>Is it over yet? Watching as his side contrived to drop more points with some weird and wasteful finishing at the London Stadium, Jürgen Klopp could at least tell himself that this might be the last time he will ever have to coach in a 12.30pm kick-off. Next season that responsibility will fall to Arne Slot, who will also need to work out how to make Liverpool more ruthless in front of goal.This was a game that they could won 10 times over. Luis Díaz could have had a hat-trick but finished with merely an assist to his name. Behind to a header from Jarrod Bowen at half-time, Liverpool should have run away with the points after fighting back to lead 2-1. Conviction, though, is in short supply at both ends of the pitch. West Ham, who are preparing for their own managerial change, were given a route back. David Moyes could be pleased with a point after Michail Antonio’s late equaliser, leaving Liverpool two points off the top. Continue reading...</td>\n",
       "      <td>The Guardian</td>\n",
       "      <td>https://www.theguardian.com/football/2024/apr/27/west-ham-liverpool-premier-league-match-report</td>\n",
       "      <td>2024-04-27 13:41:37+00</td>\n",
       "      <td>2024-04-27 23:02:43.216268+00</td>\n",
       "      <td>1</td>\n",
       "    </tr>\n",
       "    <tr>\n",
       "      <th>583</th>\n",
       "      <td>France v England: Women’s Six Nations title decider – live</td>\n",
       "      <td>Six Nations updates from the 4.45pm BST kick-off in BordeauxSign up for The Breakdown | And send your thoughts to AlexFancy a proper preview before kick-off? Sarah Rendell in Bordeaux has perfectly set the scene for us.“The last time England lost in the women’s Six Nations Theresa May was prime minister, Chelsea were defending Premier League champions and The Shape of Water had just won best picture at the Oscars,” she begins. (Well, at least The Shape of Water has stood the test of time.) Continue reading...</td>\n",
       "      <td>The Guardian</td>\n",
       "      <td>https://www.theguardian.com/sport/live/2024/apr/27/france-v-england-womens-six-nations-title-decider-live</td>\n",
       "      <td>2024-04-27 15:00:04+00</td>\n",
       "      <td>2024-04-27 23:02:43.246332+00</td>\n",
       "      <td>1</td>\n",
       "    </tr>\n",
       "    <tr>\n",
       "      <th>585</th>\n",
       "      <td>Chelsea v Barcelona: Women’s Champions League semi-final, second leg – live</td>\n",
       "      <td>Champions League semi-final, 5.30pm BST kick-off (first leg: 1-0)PSG v Lyon match preview | And send your thoughts to WillWhy not just wear the shirt?Look forward to the other semi. Continue reading...</td>\n",
       "      <td>The Guardian</td>\n",
       "      <td>https://www.theguardian.com/football/live/2024/apr/27/chelsea-v-barcelona-womens-champions-league-semi-final-second-leg-live</td>\n",
       "      <td>2024-04-27 16:01:29+00</td>\n",
       "      <td>2024-04-27 23:02:43.263802+00</td>\n",
       "      <td>1</td>\n",
       "    </tr>\n",
       "    <tr>\n",
       "      <th>587</th>\n",
       "      <td>Everton v Brentford: Premier League – live</td>\n",
       "      <td>Premier League updates, 5.30pm BST kick-off at Goodison ParkLive scoreboard | West Ham 2-2 Liverpool | And drop Barry a mailThe foot of the table: Sheffield United’s defeat at St James’ Park means they are relegated, while a draw for Burnley at Old Trafford leaves them second from bottom on 24 points, one behind Luton, who lost at Wolves.Everton are eight points clear of the drop zone and a win this evening will guarantee their safety. Even a draw ought to be enough, given their superior goal difference to the four teams below them. Continue reading...</td>\n",
       "      <td>The Guardian</td>\n",
       "      <td>https://www.theguardian.com/football/live/2024/apr/27/everton-v-brentford-premier-league-live</td>\n",
       "      <td>2024-04-27 16:04:58+00</td>\n",
       "      <td>2024-04-27 23:02:43.279262+00</td>\n",
       "      <td>1</td>\n",
       "    </tr>\n",
       "    <tr>\n",
       "      <th>608</th>\n",
       "      <td>Aston Villa v Chelsea: Premier League – live</td>\n",
       "      <td>Premier League updates, 8pm BST kick-off at Villa ParkLive scoreboard | West Ham 2-2 Liverpool | And drop Tim a mailIn other news, Everton have avoided relegation. They needed three points today and got them by beating Brentford 1-0 with a goal from Idrissa Gueye. Since capitulating at Chelsea, Everton have had three games at Goodison Park and won them all without conceding once. Everton go 15th, above Brentford: it were not for the points deductions, they’d be level with Brighton.We have an email. “What does it mean,” wonders Stephen Taylor, “‘if the FA gets its way’?” Sorry not to be clear – I was referring to this story. Continue reading...</td>\n",
       "      <td>The Guardian</td>\n",
       "      <td>https://www.theguardian.com/football/live/2024/apr/27/aston-villa-v-chelsea-premier-league-live</td>\n",
       "      <td>2024-04-27 18:30:13+00</td>\n",
       "      <td>2024-04-27 23:02:43.32591+00</td>\n",
       "      <td>1</td>\n",
       "    </tr>\n",
       "    <tr>\n",
       "      <th>612</th>\n",
       "      <td>Heartbreak for 10-player Chelsea as Rolfö’s penalty sends Barça into final</td>\n",
       "      <td>Battling, brave and somewhat aggrieved, Chelsea’s Champions League dream died in front of a record crowd of 39,398. A first-half goal from the mercurial Aitana Bonmatí, the controversial sending off of Kadeisha Buchanan and a questionable second-half penalty scored by Fridolina Rolfö denied Emma Hayes’s side a place in the final in Bilbao next month, and a dream finish to her time with the&amp;nbsp;Blues.There was one change apiece for the showdown at Stamford Bridge. Mayra Ramírez was out of the squad entirely, with Hayes confirming the Colombia international had an injury that forced them to “change direction” and hand Catarina Macario a first Champions League start for the Blues. Meanwhile, Jonatan Giráldez recalled Lucy Bronze for Barcelona, with Mariona Caldentey dropping out. Continue reading...</td>\n",
       "      <td>The Guardian</td>\n",
       "      <td>https://www.theguardian.com/football/2024/apr/27/chelsea-v-barcelona-womens-champions-league-semi-final-match-report</td>\n",
       "      <td>2024-04-27 18:37:02+00</td>\n",
       "      <td>2024-04-27 23:02:43.34808+00</td>\n",
       "      <td>1</td>\n",
       "    </tr>\n",
       "    <tr>\n",
       "      <th>620</th>\n",
       "      <td>Idrissa Gueye’s strike sinks Brentford and ensures Everton’s safety</td>\n",
       "      <td>The celebrations were not as euphoric as the derby but Brentford marked another momentous step for Everton nonetheless. Despite two separate points deductions totalling eight points, doubts over their financial future and ownership, Everton have secured their top flight status for a 71st year in succession.Idrissa Gana Gueye’s goal was enough to deliver a fourth consecutive Premier League win here and complete a superb achievement by Sean Dyche. Continue reading...</td>\n",
       "      <td>The Guardian</td>\n",
       "      <td>https://www.theguardian.com/football/2024/apr/27/everton-brentford-premier-league-match-report</td>\n",
       "      <td>2024-04-27 18:38:12+00</td>\n",
       "      <td>2024-04-27 23:02:43.358445+00</td>\n",
       "      <td>1</td>\n",
       "    </tr>\n",
       "    <tr>\n",
       "      <th>621</th>\n",
       "      <td>Ange Postecoglou the 'plastic' manager is perfect fit for a club at odds with its fans | Jonathan Wilson</td>\n",
       "      <td>There’s always been a tension between connection to place and the commercial reality – but it has never felt more acuteCharlie Hurley, the greatest player Sunderland ever had, died on Monday. He was tough, powerful and composed, captain of Alan Brown’s promotion side of 1963-64, which may have been the best of all postwar Sunderland teams. Certainly it was the side my dad talked about the most, far more than the FA Cup-winning team of nine years later. Montgomery, Irwin, Ashurst, Harvey, Hurley, McNab, Usher, Herd, Sharkey, Crossan, Mulhall: names that flitted through my childhood as legends of a greater age. Imagine if Brian Clough hadn’t done his knee.George Mulhall, the Scottish outside-left, was his favourite, I think, but only because there was no point celebrating Hurley; everybody did that. Decades later, fans still sung Hurley’s name and bought No 5 shirts with his name on the back. His popularity at this remove is hard to explain. Other than promotion, Hurley won nothing. He wasn’t even local: born in Cork, he moved to Millwall at an early age and spoke with a pronounced London accent. Continue reading...</td>\n",
       "      <td>The Guardian</td>\n",
       "      <td>https://www.theguardian.com/football/blog/2024/apr/27/ange-postecoglou-the-plastic-manager-is-perfect-fit-for-a-club-at-odds-with-its-fans</td>\n",
       "      <td>2024-04-27 19:00:42+00</td>\n",
       "      <td>2024-04-27 23:02:43.369584+00</td>\n",
       "      <td>1</td>\n",
       "    </tr>\n",
       "    <tr>\n",
       "      <th>635</th>\n",
       "      <td>Bukayo Saka: ‘The hunger to win keeps me going, that’s why I keep getting up’</td>\n",
       "      <td>Arsenal’s world-class attacker on embracing the occasion of a pivotal derby at Tottenham with team’s title hopes on the lineEven when the stakes could barely be higher, Bukayo Saka finds the capacity to step back a little and marvel. He needs no telling what Sunday’s north London derby means, the possibilities victory would unlock and the likely implications of falling short, but it would not feel the same without a sense of fun.“When you go in the stadium and see the atmosphere, it’s beautiful,” he says of those afternoons when Arsenal and Spurs face off. “I try to enjoy it. There has to be an element of seriousness, discipline and focus, but you have to try to enjoy it as&amp;nbsp;well.” Continue reading...</td>\n",
       "      <td>The Guardian</td>\n",
       "      <td>https://www.theguardian.com/football/2024/apr/27/bukayo-saka-arsenal-tottenham-premier-league-football</td>\n",
       "      <td>2024-04-27 21:30:45+00</td>\n",
       "      <td>2024-04-27 23:02:43.425401+00</td>\n",
       "      <td>1</td>\n",
       "    </tr>\n",
       "    <tr>\n",
       "      <th>636</th>\n",
       "      <td>Emma Hayes sees Champions League dreams washed away in the rain | Sophie Downey</td>\n",
       "      <td>The Chelsea manager’s last tilt at the biggest prize to elude her ended in valiant defeat by Barcelona in the semi-finalAs the rain relentlessly tumbled to the Stamford Bridge turf, Emma Hayes and her Chelsea players trudged forlornly around the ground, the pain etched on their faces knowing how close they had come. A matter of inches the wrong side of the post, a series of questionable refereeing decisions and a key injury to Mayra Ramírez who had caused Barcelona so many issues at the Estadi Olímpic just a week earlier. Millimetres, a series of&amp;nbsp;moments … so close but so far once again.The Champions League is the one trophy that has eluded Emma Hayes in her 12-year tenure. The one that, despite her protestations, she so desperately wanted to complete her haul of winning every available trophy at a club she had built from the ground up. Continue reading...</td>\n",
       "      <td>The Guardian</td>\n",
       "      <td>https://www.theguardian.com/football/blog/2024/apr/27/emma-hayes-sees-champions-league-dreams-washed-away-in-the-rain</td>\n",
       "      <td>2024-04-27 20:50:39+00</td>\n",
       "      <td>2024-04-27 23:02:43.435837+00</td>\n",
       "      <td>1</td>\n",
       "    </tr>\n",
       "    <tr>\n",
       "      <th>637</th>\n",
       "      <td>Conor Gallagher’s stunning strike salvages draw for Chelsea at Aston Villa</td>\n",
       "      <td>Mauricio Pochettino criticised Chelsea’s soft centre after a bruising defeat in midweek but they showed some mettle to bounce back from a two-goal deficit and earn a creditable draw at Aston Villa. Noni Madueke dragged Chelsea back into the contest soon after the hour before Conor Gallagher, seemingly inspired by the captain’s armband, located the top corner with a beautiful strike with nine minutes of normal time to play. Axel Disasi then thought he had scored a stoppage-time winner for Chelsea only for it to be disallowed after a push by Benoît Badiashile on Diego Carlos was referred by the VAR.Unai Emery banged the pristine red turf in front of the home dugout after Morgan Rogers scored Villa’s second goal on 42 minutes but his evening ended in frustration. Ollie Watkins skied a rare second-half opening, blazing over close to the penalty spot with a couple of minutes left. Villa can only hope they do not look back on this draw as a costly slip in the race for the top four. Continue reading...</td>\n",
       "      <td>The Guardian</td>\n",
       "      <td>https://www.theguardian.com/football/2024/apr/27/aston-villa-chelsea-premier-league-match-report</td>\n",
       "      <td>2024-04-27 21:07:05+00</td>\n",
       "      <td>2024-04-27 23:02:43.444593+00</td>\n",
       "      <td>1</td>\n",
       "    </tr>\n",
       "    <tr>\n",
       "      <th>638</th>\n",
       "      <td>Championship roundup: Hull fight back to dent Ipswich’s promotion challenge</td>\n",
       "      <td>Ipswich still in third after conceding late equaliser in 3-3 drawHuddersfield all but relegated after draw with BirminghamOmari Hutchinson scored twice but Hull came from behind three times to stop Ipswich moving into the Championship promotion places with a 3-3 draw at the MKM Stadium.Ipswich started the day a solitary point behind Leeds having played two games less, knowing a victory would put them in healthy position to return to the Premier League, and George Hirst fired the visitors in front in the 19th minute to give them a perfect start. Continue reading...</td>\n",
       "      <td>The Guardian</td>\n",
       "      <td>https://www.theguardian.com/football/2024/apr/27/championship-roundup-norwich-and-west-brom-falter-in-race-for-playoffs</td>\n",
       "      <td>2024-04-27 21:38:11+00</td>\n",
       "      <td>2024-04-27 23:02:43.45199+00</td>\n",
       "      <td>1</td>\n",
       "    </tr>\n",
       "    <tr>\n",
       "      <th>689</th>\n",
       "      <td>Sunday with Fay Ripley: ‘I’m a feeder – breakfast, brunch, snacks, roast’</td>\n",
       "      <td>The actor and cookbook author, 58, copes with a looming empty nest by inviting everyone around her tableSunday worries? My Sundays are changing. My kids are now 17 and 21, and we’re at a crossroads between me being in control and them being old enough to be in control. I’m in an area of grief. The empty nesting has left me quite sad.Family time? Sundays have such a weight of expectation of being together as a family. Food is at the centre of my life – we would all break bread together. Now the kids say, ‘I think you’ll find I’m going to be asleep until 4pm.’ This generation isn’t as scared of their parents as we were.Sundays growing up? My parents were divorced, so it was a game of two halves, travelling between them. Everyone would be drinking. My dad always had a big cigar in his mouth, there was a lot of arguing, a lot of jokes, and there were dogs barking. Everyone seemed to be having an affair in the 70s. In my memory, all the adults were having sex with each other. I was brought up in Surrey. There was nothing else to do other than shag your neighbour.Sunday grub? I’ve written three cookbooks: I’m a feeder. There’s breakfast, brunch, homemade snacks. Then we have a big roast with homemade pudding. As a child, the house would be full and I liked the chaos. Now, I’ll invite any old strangers just to hear that clink of cutlery.Sunday me-time? Don’t knock on the door at 7.30am, because Mum’s in the bath. My husband endlessly books massages. I’m like: ‘You all right mate? You could just run a bath.’ Continue reading...</td>\n",
       "      <td>The Guardian</td>\n",
       "      <td>https://www.theguardian.com/lifeandstyle/2024/apr/28/sunday-with-fay-ripley-im-a-feeder-breakfast-brunch-snacks-roast</td>\n",
       "      <td>2024-04-28 05:45:02+00</td>\n",
       "      <td>2024-04-28 08:02:39.527832+00</td>\n",
       "      <td>1</td>\n",
       "    </tr>\n",
       "    <tr>\n",
       "      <th>734</th>\n",
       "      <td>Van Dijk criticises unacceptable form and admits Liverpool do not merit title</td>\n",
       "      <td>Captain says team lacked ‘fight’ at Everton and in other gamesHe feels fear of making mistakes may have contributed to slumpVirgil van Dijk has described the way Liverpool have allowed the season to end as unacceptable and admitted they do not deserve to win the Premier League.Just over a month ago Liverpool were chasing an unprecedented but unlikely quadruple but a week after exiting Europe their Premier League title hopes were left in tatters after a 2-0 defeat at Everton. Continue reading...</td>\n",
       "      <td>The Guardian</td>\n",
       "      <td>https://www.theguardian.com/football/2024/apr/25/virgil-van-dijk-liverpool-unacceptable-do-not-deserve-title</td>\n",
       "      <td>2024-04-25 09:40:40+00</td>\n",
       "      <td>2024-04-26 12:32:52.965683+00</td>\n",
       "      <td>1</td>\n",
       "    </tr>\n",
       "    <tr>\n",
       "      <th>777</th>\n",
       "      <td>Sean Dyche’s tracksuit energy shocks weary Liverpool into submission | Will Unwin</td>\n",
       "      <td>Everton were set on closing down their rivals from the off and the tactics sapped the belief from the title challengersIt is little wonder Jürgen Klopp is running out of energy when he is having to come up with a new lineup every few days. For the Merseyside derby defeat to Everton there were six changes to follow on from the half-dozen made for Sunday’s win over Fulham. On this occasion, however, it did not work.The latter weeks of the season are a tricky balance for any coach with so much at stake. Trying to maintain a rhythm and build momentum while keeping everyone fresh for crucial fixtures is an unenviable task. It cannot help a manager when hours before the match a starter withdraws but not even the riches of football can dictate when a mother-to-be enters labour. Continue reading...</td>\n",
       "      <td>The Guardian</td>\n",
       "      <td>https://www.theguardian.com/football/2024/apr/24/sean-dyches-tracksuit-energy-shocks-weary-liverpool-into-submission</td>\n",
       "      <td>2024-04-24 22:33:48+00</td>\n",
       "      <td>2024-04-26 10:02:37.257531+00</td>\n",
       "      <td>1</td>\n",
       "    </tr>\n",
       "    <tr>\n",
       "      <th>778</th>\n",
       "      <td>Fernandes rescues Manchester United in frantic win over Sheffield United</td>\n",
       "      <td>With 81 minutes gone Bruno Fernandes collected a Kobbie Mainoo pass and with a swish of his left foot fired a laser past Wes Foderingham and Manchester United were 3-2 ahead. The question now was could they, at last, hang on to a lead.This was answered emphatically by Rasmus Højlund, whose strike as the end of regulation time neared gave Erik ten Hag’s team security and was the best way to close before a watching Jason Wilcox, the new technical director, who will lead the football department until Dan Ashworth joins from Newcastle. Continue reading...</td>\n",
       "      <td>The Guardian</td>\n",
       "      <td>https://www.theguardian.com/football/2024/apr/24/manchester-united-sheffield-united-premier-league-match-report</td>\n",
       "      <td>2024-04-24 21:08:44+00</td>\n",
       "      <td>2024-04-26 10:02:37.273551+00</td>\n",
       "      <td>1</td>\n",
       "    </tr>\n",
       "    <tr>\n",
       "      <th>779</th>\n",
       "      <td>Stuart Attwell back in VAR hot water after Bournemouth sink furious Wolves</td>\n",
       "      <td>And to think Stuart Attwell was hoping for a quiet week clear of controversy. The referee was again the subject of rage, this time not from a Greek shipping magnate but from Wolves’ irate supporters, after he disallowed Hwang Hee-chan’s second-half equaliser at home to Bournemouth for the meekest of tangles in the buildup. Attwell initially awarded Hwang’s header before the VAR, Darren England, advised him to visit the pitch-side monitor to review a brush between Matheus Cunha and Justin Kluivert, albeit a petulant one.Kluivert went to shove Cunha and the Wolves substitute responded by flinging an arm in his direction but did not appear to make any contact with the player. It was a brief contretemps but, tellingly, Kluivert did not appeal after Hwang converted Nélson Semedo’s superb cross. Gary O’Neil placed his hands on his head in disbelief – not for the first time this season – and the fans let Attwell know the rest. “It’s not football any more,” bellowed the South Bank. Continue reading...</td>\n",
       "      <td>The Guardian</td>\n",
       "      <td>https://www.theguardian.com/football/2024/apr/24/wolves-bournemouth-premier-league-match-report</td>\n",
       "      <td>2024-04-24 21:09:46+00</td>\n",
       "      <td>2024-04-26 10:02:37.283721+00</td>\n",
       "      <td>1</td>\n",
       "    </tr>\n",
       "    <tr>\n",
       "      <th>787</th>\n",
       "      <td>Dortmund beware: PSG are coming good at just the right time | Eric Devin</td>\n",
       "      <td>PSG’s trio of summer signings Ousmane Dembélé and Gonçalo Ramos proved they are clicking at last against LorientBy Eric Devin for Get French Football NewsThis was the situation Paris Saint-Germain faced on Wednesday night at the Stade du Moustoir: Luis Enrique sent out a heavily rotated team, the visitors having all but clinched the league title, and they were away to a Lorient side with talented individuals, fighting to stay in the top flight. It sounded like a recipe for dropped points and there is a precedent: PSG closed out the end of last season with a draw to Strasbourg and a loss to Clermont at home. The latter result certainly dampened the title celebrations at the Parc des Princes.However, the leaders barely blinked, even with Achraf Hakimi, Warren Zaïre-Emery, Marquinhos, Bradley Barcola and Vitinha not travelling to Brittany. A brace each from Kylian Mbappé and Ousmane Dembélé was more than PSG needed to put the hapless Merlus to the sword, 4-1. Continue reading...</td>\n",
       "      <td>The Guardian</td>\n",
       "      <td>https://www.theguardian.com/football/2024/apr/25/dortmund-beware-psg-are-coming-good-at-just-the-right-time</td>\n",
       "      <td>2024-04-25 11:01:54+00</td>\n",
       "      <td>2024-04-26 10:02:37.405217+00</td>\n",
       "      <td>1</td>\n",
       "    </tr>\n",
       "    <tr>\n",
       "      <th>788</th>\n",
       "      <td>Spurs v Arsenal has extra edge but derby mentality may be more key than form | Karen Carney</td>\n",
       "      <td>Mikel Arteta’s side are chasing the title but Ange Postecoglou wants a top-four spot and has the tools to hurt his local rivalsAfter Arsenal lost to Aston Villa and went out of the Champions League in the same week, there were suggestions their season was at risk of unravelling. Since then they have secured a win at Wolves and thrashed Chelsea but they face a pivotal test of their credentials against their bitter rivals Tottenham on Sunday.That game is not just about a team fighting for the title travelling to one aiming to qualify for the Champions League; there is a lot more at stake in a derby – just ask Liverpool. The effect of hostility should not be underestimated in potentially season-defining matches. Tottenham will be desperate to dent the Gunners’ chances of securing a first Premier League trophy in 20 years. Continue reading...</td>\n",
       "      <td>The Guardian</td>\n",
       "      <td>https://www.theguardian.com/football/2024/apr/25/spurs-arsenal-derby-mentality-mikel-arteta-ange-postecoglou</td>\n",
       "      <td>2024-04-25 11:34:18+00</td>\n",
       "      <td>2024-04-26 10:02:37.438662+00</td>\n",
       "      <td>1</td>\n",
       "    </tr>\n",
       "    <tr>\n",
       "      <th>792</th>\n",
       "      <td>Football Daily | Everton’s mood is Green Day. For Liverpool it’s more Dire Straits</td>\n",
       "      <td>Sign up now! Sign up now! Sign up now? Sign up now!“You lost the league at Goodison Park,” serenaded the Everton fans as Liverpool’s players trudged off the pitch on Wednesday evening after their 2-0 defeat, the footballing equivalent of Nelson Muntz giving his teacher a wedgie and yelling: “Ha Ha!” And while Football Daily is convinced that Jürgen Klopp understands the literal translation of schadenfreude, it’s rare that the Liverpool manager has been on the receiving end of the concept. This defeat at Goodison was the first and last of Klopp’s nine-year tenure, and Liverpool’s first defeat at their neighbours’ ground since 2010. Continue reading...</td>\n",
       "      <td>The Guardian</td>\n",
       "      <td>https://www.theguardian.com/football/2024/apr/25/football-daily-email-everton-liverpool</td>\n",
       "      <td>2024-04-25 14:16:50+00</td>\n",
       "      <td>2024-04-26 10:02:37.570191+00</td>\n",
       "      <td>1</td>\n",
       "    </tr>\n",
       "    <tr>\n",
       "      <th>796</th>\n",
       "      <td>Injuries have deflated Liverpool – not Jürgen Klopp’s early wave goodbye | Andy Hunter</td>\n",
       "      <td>Manager’s departure news is not to blame for his side losing their grasp on two, quite possibly three, trophies in quick timeIn isolation, Jürgen Klopp did not have to apologise for losing for the first time in eight visits to Goodison Park. Bad nights happen. In the context of Liverpool’s sorry end to the season, however, an apology felt entirely appropriate.“I really feel for the people, I am really sorry for that,” said the Liverpool manager after Wednesday’s derby defeat by Everton. “We never lost here before and that feels really different. I really apologise for that.” Klopp’s voice and choice of words captured Liverpool’s mood as the prospects of giving their legendary manager a fitting send-off evaporate. Deflation. Yes, a new-look team was not expected to mount a title challenge this season. That is not a default excuse for recent underperformance. Yes, a quadruple is a fanciful ambition. That does not explain how Liverpool have allowed two, quite possibly three, trophies to slip from their grasp in less than six weeks. Continue reading...</td>\n",
       "      <td>The Guardian</td>\n",
       "      <td>https://www.theguardian.com/football/2024/apr/25/jurgen-klopp-liverpool-premier-league-title-race-goodbye</td>\n",
       "      <td>2024-04-25 16:12:21+00</td>\n",
       "      <td>2024-04-26 10:02:37.622961+00</td>\n",
       "      <td>1</td>\n",
       "    </tr>\n",
       "  </tbody>\n",
       "</table>\n",
       "</div>"
      ],
      "text/plain": [
       "                                                                                                        title  \\\n",
       "168                                                         Brighton v Manchester City: Premier League – live   \n",
       "172                        England’s Marlie Packer: ‘I’d give my son the world – dad did none of that for me’   \n",
       "180                                     Have Everton dashed Liverpool’s title dreams? – Football Weekly Extra   \n",
       "181                                     Arsenal thrash Chelsea and a Football League update – Football Weekly   \n",
       "182                                      An episode from Women’s Football Weekly – Fifpro exclusive interview   \n",
       "183                             Fifpro exclusive interview and Chelsea stifle Barça – Women’s Football Weekly   \n",
       "192                               Manchester City fire title warning with Phil Foden on song against Brighton   \n",
       "193                             Sean Dyche defends his Everton tactics: ‘Not a time for style, a time to win’   \n",
       "197                                      Premier League: 10 things to look out for in this weekend’s football   \n",
       "208                                  Manchester City’s well-oiled winning machine shows no sign of exhaustion   \n",
       "216                     Manchester City turn up heat on title rivals before big weekend: football news – live   \n",
       "242       Gareth Southgate to Manchester United is actually a good idea. So what’s the chance? | Barney Ronay   \n",
       "243                                 ‘Best in the world’: Hayes mindful of Barcelona threat after away success   \n",
       "244                             Calendar ‘getting to tipping point’ with bigger Club World Cup, Masters warns   \n",
       "245                                                                   QPR v Leeds United: Championship – live   \n",
       "246           Spurs could not stop Arsenal’s Invincibles – can they derail the Arteta project? | David Hytner   \n",
       "404                             Leicester promoted to Premier League after Leeds crash to heavy defeat at QPR   \n",
       "405                                A Premier League return is the only certainty in Leicester’s cloudy future   \n",
       "406                           ‘It’s like juggling sand’: Sean Dyche’s rebuild hit by uncertain Everton future   \n",
       "409                                    Arteta receives advice from Wenger for Arsenal’s crunch derby at Spurs   \n",
       "476                                                        West Ham United v Liverpool: Premier League – live   \n",
       "494                                         Sheffield United relegated after thrashing by five-star Newcastle   \n",
       "495                                   Zeki Amdouni punishes Onana to grab Burnley a draw at Manchester United   \n",
       "577                                Manchester United v Burnley, Newcastle v Sheffield United, and more – live   \n",
       "579                                    Liverpool title hopes almost over after Antonio earns West Ham a point   \n",
       "583                                                France v England: Women’s Six Nations title decider – live   \n",
       "585                               Chelsea v Barcelona: Women’s Champions League semi-final, second leg – live   \n",
       "587                                                                Everton v Brentford: Premier League – live   \n",
       "608                                                              Aston Villa v Chelsea: Premier League – live   \n",
       "612                                Heartbreak for 10-player Chelsea as Rolfö’s penalty sends Barça into final   \n",
       "620                                       Idrissa Gueye’s strike sinks Brentford and ensures Everton’s safety   \n",
       "621  Ange Postecoglou the 'plastic' manager is perfect fit for a club at odds with its fans | Jonathan Wilson   \n",
       "635                             Bukayo Saka: ‘The hunger to win keeps me going, that’s why I keep getting up’   \n",
       "636                           Emma Hayes sees Champions League dreams washed away in the rain | Sophie Downey   \n",
       "637                                Conor Gallagher’s stunning strike salvages draw for Chelsea at Aston Villa   \n",
       "638                               Championship roundup: Hull fight back to dent Ipswich’s promotion challenge   \n",
       "689                                 Sunday with Fay Ripley: ‘I’m a feeder – breakfast, brunch, snacks, roast’   \n",
       "734                             Van Dijk criticises unacceptable form and admits Liverpool do not merit title   \n",
       "777                         Sean Dyche’s tracksuit energy shocks weary Liverpool into submission | Will Unwin   \n",
       "778                                  Fernandes rescues Manchester United in frantic win over Sheffield United   \n",
       "779                                Stuart Attwell back in VAR hot water after Bournemouth sink furious Wolves   \n",
       "787                                  Dortmund beware: PSG are coming good at just the right time | Eric Devin   \n",
       "788               Spurs v Arsenal has extra edge but derby mentality may be more key than form | Karen Carney   \n",
       "792                        Football Daily | Everton’s mood is Green Day. For Liverpool it’s more Dire Straits   \n",
       "796                    Injuries have deflated Liverpool – not Jürgen Klopp’s early wave goodbye | Andy Hunter   \n",
       "\n",
       "                                                                                                                                                                                                                                                                                                                                                                                                                                                                                                                                                                                                                                                                                                                                                                                                                                                                                                                                                                                                                                                                                                                                                                                                                                                                                                                                                                                                                                                                                                                                                                                                   description  \\\n",
       "168                                                                                                                                                                                                                                                                                                                                                                                                                            Premier League live updates from the 8pm BST kick-offLive scoreboard | Read Football Daily | And email Scott5 min: Joao Pedro steals the ball in midfield and races into the City half. He’s got options on either side but takes the wrong one, passing to Veltman on his right. Veltman runs into trouble immediately and the counter peters out. “Greetings from Virginia,” begins Eagle Brosi. “The quality of the American league is so poor that I’m usually happy to catch any EPL match but I find Pep without Jack Grealish to be so so boring. There’s something so horribly funny about watching Jack, with his tiny shinpads, run into his opponent, fall down and see the ref just get totally conned. I guess spending the preseason drunk isn’t wise? But I miss the only likeable/watchable thing about this City team. Here’s hoping he gets at least a 15-minute cameo.”3 min: Gross makes a nuisance of himself down the inside-left channel. The ball breaks to Welbeck, arriving on the overlap. Welbeck lashes a low first-time effort towards the bottom right, but Ederson fields it at full stretch. A bright start by both teams. Continue reading...   \n",
       "172                                                                                                                                                                                                                                                                                                                                                                                                                                                                                                                                                                                                                                                                                         Captain reflects on her mum being a ‘rock’ and the Red Roses’ new coach as they chase another Six Nations grand slam‘We’re in France and the crowd is going to be hostile,” Marlie Packer says as she looks ahead to Saturday’s Six Nations grand slam&nbsp;decider in Bordeaux with relish. “But we know that can flip on its head because of the French crowd. If they’re not happy with the way their team are playing, they&nbsp;turn on&nbsp;them and give them a bit of a&nbsp;hard time.”Packer will win her 104th cap and, as captain, she also knows England have not lost a Six Nations match in six years. She played in that last defeat, away to France in Grenoble in March 2018, and so she has an acute awareness of the light and shade in rugby and life. Packer has lost two agonising World Cup finals, to New Zealand, but she helped England win the tournament in 2014. Continue reading...   \n",
       "180                                                                                                                                                                                                                                                                                                                                                                                                                                                                                                                                                                                                                                                                                                                                                                                                                                                                                                                                                                                                                                                                                                    Max Rushden is joined by Barry Glendenning, Jonathan Liew and Robyn Cowen as Liverpool lose the Merseyside derby … and maybe moreRate, review, share on Apple Podcasts, Soundcloud, Audioboom, Mixcloud, Acast and Stitcher, and join the conversation on Facebook, Twitter and email.On the podcast today: Everton sink Liverpool in a Merseyside derby that could be the end of the Reds’ title hopes, and which may well be enough to secure the Toffees’ Premier League status. Continue reading...   \n",
       "181                                                                                                                                                                                                                                                                                                                                                                                                                                                                                                                                                                                                                                                                                                                                                                                                                                                                                                                                                                                                                                                          Max Rushden is joined by Barry Glendenning, Ben Fisher, Sanny Rudravajhala and George Elek as Arsenal beat Chelsea 5-0 and to run through the EFL as those divisions reach a conclusion in the coming weeksRate, review, share on Apple Podcasts, Soundcloud, Audioboom, Mixcloud, Acast and Stitcher, and join the conversation on Facebook, Twitter and email.On the podcast today; Arsenal keep pace at the top of the Premier League – were they brilliant or are Chelsea inexcusably bad? It’s probably a touch of both. Continue reading...   \n",
       "182                                                                                                                                                                                                                                                                                                                                                                                                                                                                                                             Faye Carruthers is joined by Suzanne Wrack for an exclusive interview with Fifpro representatives Sarah Gregorius and Alex Culvin, plus Dutch International player, Merel van Dongen, to discuss how the number of games elite athletes are playing is impacting them on and off the pitch. Also, Sophie Downey joins to round up all the weekend’s action in the Champion’s League and WSLFrom our sister pod today; the panel brings you an exclusive interview with representatives from the global players’ union – Fifpro – who, alongside Netherlands defender Merel van Dongen, share their views on how the number of games elite athletes are playing is impacting them on and off the pitch.The panel also discusses Chelsea’s inspired Champions League win, Manchester City retaking the lead in the WSL, Arsenal securing European football, Palace on the brink of lifting the Championship and Lewes’s relegation …If you haven’t already, make sure to subscribe to Women’s Football Weekly to keep informed about the biggest stories in the global game. Continue reading...   \n",
       "183                                                                                                                                                                                                                                                                                                                                                                                                                                                                                                                                                                                                                                                                                                                                                                              Faye Carruthers is joined by Suzanne Wrack for an interview with Fifpro representatives, Sarah Gregorius and Alex Culvin, plus Dutch international, Merel van Dongen, to discuss how footballers are being affected by the packed schedule. Also, Sophie Downey rounds up the weekend action in the Champion’s League and WSLToday’s pod features an exclusive interview with representatives from the global players’ union, Fifpro, who, alongside the Netherlands defender Merel van Dongen, share their views on how footballers are being affected by the packed schedule.The panel also discuss Chelsea's inspired Champions League win against Barcelona, Manchester City retaking the WSL lead, Arsenal securing European football, Palace's Championship title charge and relegation for Lewes … Continue reading...   \n",
       "192                                                                                                                                                                                                                                                                                                                                                                                                                                                                                                                                                                                                                                                                                                                                                                                                                                                                                                                                                                                                                                                            Almost ten years ago to the day, Steven Gerrard slipped, Liverpool lost control of their destiny in terms of the Premier League title race and Manchester City nipped in to win it.The talk in recent weeks and certainly since Arsenal and Liverpool lost on the Saturday before last has been about whether City might have a slip of their own in them, something that – frankly – they have never done previously under Pep Guardiola when the trophy has been within their grasp, the focus narrowing over the run-in. Continue reading...   \n",
       "193                                                                                                                                                                                                                                                                                                                                                                                                                                                                                                                                                                                                                                                                                                                                                                                                                                                                                                     Manager says his club want to play ‘winning football first’Beating Brentford could secure Premier League survivalSean Dyche has insisted he will not be judged on playing style at ­Everton but by winning as he strives to secure the Premier League status of the ­financially troubled club.They took a significant step towards that goal on Wednesday by winning the Merseyside derby for the first time in 14 years at Goodison Park. After the 2-0 defeat of Liverpool Dyche, conscious of the criticism his approach attracted during a run of 13 games without a win, claimed he wanted “to play beautiful football if I can, but I want to play winning football first.” Continue reading...   \n",
       "197                                                                                                                                                                                                                                                                                                                                                                                                                                       Liverpool await a dead-ball salvo, Luton have to keep their chins up, and things could get spicy at the City GroundDavid Moyes will surely have taken note of Liverpool’s struggle to defend set pieces against Everton. Jürgen Klopp, who must be delighted with a 12.30pm kick-off on Saturday, should prepare his team for another bruising test when they visit West Ham. For Moyes, this is a chance to repair the sizeable damage to his reputation caused by last weekend’s collapse at Selhurst Park. West Ham were 4-0 down to Palace after 31 minutes and are preparing to part company with Moyes at the end of the season, but they should take heart from how Everton unsettled Liverpool in the Merseyside derby. Everton scored twice from set pieces and West Ham pose a similar threat from dead balls. James Ward-Prowse’s deliveries towards Tomas Soucek, Kurt Zouma and Michail Antonio will have Klopp’s defenders sweating. Jacob SteinbergWest Ham v Liverpool, Saturday 12.30pm (all times BST)Fulham v Crystal Palace, Saturday 3pmNewcastle v Sheffield United, Saturday 3pmManchester United v Burnley, Saturday 3pm Continue reading...   \n",
       "208                                                                                                                                                                                                                                                                                                                                                                                                                                                                                                                                                                                                                                                                                                                                                                                                                       Pep Guardiola’s complaints about his team’s tiredness were hard to believe as they strolled to victory against BrightonIt had been tempting to wonder if some kind of elaborate gag was taking place when the Brighton fan and noted stamina enthusiast “The Hardest Geezer” was paraded on the pitch before kick-off at the Amex Stadium. What was that, Pep? Your team’s a bit tired? Why not tell it to the guy who’s just become the first person in history to run the length of Africa? He must be dying to hear about Bernardo Silva’s hamstrings.Nobody is really buying it. The thing about City is that they are built to go the distance. Not only do they have the best technicians in the league, they also have a team packed with physical power. Continue reading...   \n",
       "216                                                                                                                                                                                                                                                                                                                                                                                                                                                                                                                                              Premier League: 10 things to look out for this weekendSign up for Football Daily | And send Dominic an emailEddie Howe says Newcastle trio Nick Pope, Joelinton and Miguel Almiron “are getting closer” to full fitness, while Tino Livramento remains a doubt for their home clash with Sheffield United; he has an ankle problem. Callum Wilson returned in the midweek defeat to Crystal Palace, with Howe desperate for some kind of reaction to his team’s surprisingly limp performance at Selhurst Park.We were disappointing, we acknowledge that and hold our hands up to it. We missed those resilient qualities that we need and that has been too often the case away from home. We have to do better. We must learn and absorb all the lessons from Wednesday.Every game is so difficult, it is up to us to firstly go into the game with the right mentality and let our players express themselves in the right way. We have to finish the season strongly, we are under no illusions on how important these fixtures are. Continue reading...   \n",
       "242                                                                                                                                                                                                                                                                                                                                                                                                                                                                                                                                                                                                                                                                                                                                                                                                                                                                                                                                                                                            The England manager’s honesty and systems expertise are just what is needed at the haunted house Old Trafford has becomeAnd so we entered the age of the noble, blameless bald men. This is a pretty good moment to be Ineos at Manchester United. Nothing really matters yet. Every problem is someone else’s problem. Every solution is your own.For now you’re just hope, blue sky. You’re a silent reproach on a gantry. You’re a tieless Tony Blair jamming with Shed Seven in the Downing Street garden. And even the bad things are kind of good, because you’re not the bad things. Continue reading...   \n",
       "243                                                                                                                                                                                                                                                                                                                                                                                                                                                                                                                                                                                                                                                                                                                                                                                                                                                                                                                                                                                                                         Chelsea take a lead into the Champions League semi-final second leg, with the manager plotting a tactical masterclass“It just feels like a longer half-time, that’s all it is,” said Emma Hayes matter-of-factly about the week-long wait between Chelsea’s 1-0 Champions League defeat of Barcelona and the second leg at Stamford Bridge on Saturday evening.“We’re at the midway stage of a game that’s a minimum of 180 minutes long. There may be adjustments for half-time and we’re ready for the second half, that’s how I present it to the players.” Continue reading...   \n",
       "244                                                                                                                                                                                                                                                                                                                                                                                                                                                                                                                                                                                                                                                                                                                                                                                                                                                                                               Premier League CEO unhappy with lack of Fifa consultationManchester City’s 115 charges to be resolved ‘in near future’Richard Masters has criticised Fifa for failing to consult domestic leagues over its plans for an expanded Club World Cup, whose inaugural edition in the United States is set to occupy a month of the 2025 summer break.As the chief executive of the Premier League reiterated that Manchester City’s 115 charges will be resolved in “the near future”, with hearings set to take place in the autumn, league officials from across Europe came together to issue a warning over an ever-expanding club calendar, with Fifa’s new competition the main target. Continue reading...   \n",
       "245                                                                                                                                                                                                                                                                                                                                                                                                                                                                                                                                                                                                                                                                                                                                                                                                                                                                                                                                                                                                                                                                                                                                                                                                                                                                                                  Championship updates, 8pm BST kick-off at Loftus RoadLive scoreboard | Read Football Daily | And you can mail TahaHere’s John Brewin, by the way, making his case.So Leeds are without Patrick Bamford; in comes Joël Piroe to lead the line. QPR have the same XI that beat Preston. Continue reading...   \n",
       "246                                                                                                                                                                                                                                                                                                                                                                                                                                                                                                                                                                                                                                                                                                                                                                                  Memories of 2004 still sting and in Sunday’s derby Tottenham have the chance to take a wrecking ball to Arsenal’s title hopesIt would not scan like the original Arsenal terrace chant. “We took a big step towards winning the league at the Tottenham Hotspur Stadium.” The prospect, though, is real. And before Sunday’s derby – the 195th edition of the fixture that determines the mood in north London – it is utterly sickening for Spurs supporters.Spurs could not stop the Arsenal Invincibles in April 2004 and it is fair to say they have not heard the end of it since. Nor was that the first time their hated rivals had won the league at White Hart Lane. Arsenal did exactly that on the final day of the 1970-71 season when Ray Kennedy’s late header gave them a 1-0 victory. Continue reading...   \n",
       "404                                                                                                                                                                                                                                                                                                                                                                                                                                                                                                                                                                                                                                                                                                                                                                                                                                                                                                                                                                                                                                                                                                                      Across 90 raucous minutes in west London Leeds lost control of this crucial game and with it their future.They hoped this would be another step on a sprint to promotion but instead they stumbled, and QPR’s emphatic and fully deserved victory not only secured their own place in the Championship it also promoted Leicester, who will travel to Preston on Monday in the knowledge that their return to the Premier League at the first attempt is certain. Continue reading...   \n",
       "405                                                                                                                                                                                                                                                                                                                                                                                                            Enzo Maresca’s side kept their heads to secure promotion but financial worries loom large as club prepare for the top flightA campaign that began with Enzo Maresca insisting his Leicester City players sleep overnight at their sprawling, 185-acre Seagrave training base for the first week of pre-season in the name of team building has ended with their primary mission accomplished, promotion boxed off, the Championship crown likely to follow. Leicester’s most memorable and marvellous moment came when they confounded expectations; this time, it was a case of simply meeting them by getting back to the Premier League at the first attempt.Perhaps it should come as no surprise that surely the most expensively assembled squad in the division – their wage bill was the biggest outside the Premier League top six 12 months ago – has sealed that return after Leeds lost at QPR on Friday night but it turned into a slog after they ceded a 17-point lead. In the last couple of months, their 51-game season has flitted between a sense of collapse and catharsis. “It has been a very long season,” Maresca said with a wry smile this week. Continue reading...   \n",
       "406                                                                                                                                                                                                                                                                                                                                                                                                                                                                                                                                                                                                                                                                                                                                                                                                                                                                                                                                                                                                                                        Premier League remain unconvinced by 777 Partners takeoverEverton could confirm top-flight survival against BrentfordSean Dyche has likened his job as Everton’s manager to “juggling sand” amid protracted uncertainty over the club’s ownership and financial future.Dyche admits there will be no assurances over his summer transfer plans even in the event of securing the club’s Premier League status on Saturday. Everton can guarantee survival with victory against Brentford at Goodison Park providing Luton do not win at Wolves. Continue reading...   \n",
       "409                                                                                                                                                                                                                                                                                                                                                                                                                                                                                                                                                                                                                                                                                                                                                                                                                                                                                                      ‘Invincibles’ won club’s last title at Tottenham 20 years agoArteta: ‘He always talked about that, about the fine margins’Mikel Arteta has been getting advice from Arsène Wenger as Arsenal prepare for Sunday’s north London derby almost exactly 20 years after “the Invincibles” won the club’s last Premier League title at the home of their rivals Tottenham.An Arsenal victory at Spurs would re-establish their four-point advantage over Manchester City before Pep Guardiola’s side face Nottingham Forest later in the day. City will start that match with two games in hand and Arteta insists Liverpool are not out of contention despite their defeat by Everton. Continue reading...   \n",
       "476                                                                                                                                                                                                                                                                                                                                                                                                                                                                                                                                                                                                                                                                                                                                                                                                                                                                                                                                                                                                                                                                                                                                                                                                                                                             Premier League updates from the 12.30pm BST kick-offLive scoreboard | Reds agree terms for Slot | And mail BarryWest Ham: Areola, Coufal, Zouma, Ogbonna, Emerson Palmieri, Soucek, Alvarez, Bowen, Lucas Paqueta, Kudus, Antonio.Subs: Fabianski, Johnson, Cresswell, Ward-Prowse, Phillips, Cornet, Ings, Casey, Mubama. Continue reading...   \n",
       "494                                                                                                                                                                                                                                                                                                                                                                                                                                                                                                                                                                                                                                                                                                                                                                                                                                                                                                                                          By the end, Sheffield United were probably relieved that their next league assignment in the north-east will be at Sunderland or Middlesbrough. Long before the final whistle brought confirmation of a relegation to the Championship that the visiting manager, Chris Wilder, had already deemed “inevitable”, his players had seen more than enough of Newcastle and Alexander Isak in particular.Eddie Howe’s side have now scored 13 Premier League goals this season against the Blades. This latest quintet, with two registered by the excellent Isak, enhanced their hopes of hosting European nights at St James’ Park next season. Continue reading...   \n",
       "495                                                                                                                                                                                                                                                                                                                                                                                                                                                                                                                                                                                                                                                                                                                                                                                                                                                                                                             The current Manchester United side, representing English football’s 20-time record champions, seriously struggle to hold on to a lead. It is the puzzle of Erik ten Hag’s vintage, an unwanted leitmotif of this lost season under the Dutchman as, once more, it happened here in yet another late capitulation.A careening Antony, close to tumbling over, appeared to be United’s hero, his strike beyond Arijanet Muric kissing the back of the Burnley net with the clock showing 79 minutes. But no. United hit self-destruct via the hapless act of André Onana, who wiped out Zeki Amdouni near his goal when Aaron Wan-Bissaka had already headed the ball clear. Continue reading...   \n",
       "577                                                                                                                                                                                                                                                                                                                                                                                                                                                                                                                                                                                                                                                                                                                                                                                                                                                                                                                                                                                                                                                                                                                                        All the action from the 3pm BST Premier League kick-offsLive scoreboard | Lopetegui set for Milan | And drop Scott a mailNewcastle United make two changes in the wake of their midweek 2-0 defeat at Crystal Palace. Lewis Hall and Tino Livramento replace Emil Krafth and Harvey Barnes, who both drop to the bench.Sheffield United are unchanged. They name the same starting XI that began the aforementioned 4-2 defeat at Old Trafford. Continue reading...   \n",
       "579                                                                                                                                                                                                                                                                                                                                                                                                                                                                                                                                                                                                                Is it over yet? Watching as his side contrived to drop more points with some weird and wasteful finishing at the London Stadium, Jürgen Klopp could at least tell himself that this might be the last time he will ever have to coach in a 12.30pm kick-off. Next season that responsibility will fall to Arne Slot, who will also need to work out how to make Liverpool more ruthless in front of goal.This was a game that they could won 10 times over. Luis Díaz could have had a hat-trick but finished with merely an assist to his name. Behind to a header from Jarrod Bowen at half-time, Liverpool should have run away with the points after fighting back to lead 2-1. Conviction, though, is in short supply at both ends of the pitch. West Ham, who are preparing for their own managerial change, were given a route back. David Moyes could be pleased with a point after Michail Antonio’s late equaliser, leaving Liverpool two points off the top. Continue reading...   \n",
       "583                                                                                                                                                                                                                                                                                                                                                                                                                                                                                                                                                                                                                                                                                                                                                                                                                                                                                                                                                                                                                                                                         Six Nations updates from the 4.45pm BST kick-off in BordeauxSign up for The Breakdown | And send your thoughts to AlexFancy a proper preview before kick-off? Sarah Rendell in Bordeaux has perfectly set the scene for us.“The last time England lost in the women’s Six Nations Theresa May was prime minister, Chelsea were defending Premier League champions and The Shape of Water had just won best picture at the Oscars,” she begins. (Well, at least The Shape of Water has stood the test of time.) Continue reading...   \n",
       "585                                                                                                                                                                                                                                                                                                                                                                                                                                                                                                                                                                                                                                                                                                                                                                                                                                                                                                                                                                                                                                                                                                                                                                                                                                                                                                                                                                                                  Champions League semi-final, 5.30pm BST kick-off (first leg: 1-0)PSG v Lyon match preview | And send your thoughts to WillWhy not just wear the shirt?Look forward to the other semi. Continue reading...   \n",
       "587                                                                                                                                                                                                                                                                                                                                                                                                                                                                                                                                                                                                                                                                                                                                                                                                                                                                                                                                                                                                                             Premier League updates, 5.30pm BST kick-off at Goodison ParkLive scoreboard | West Ham 2-2 Liverpool | And drop Barry a mailThe foot of the table: Sheffield United’s defeat at St James’ Park means they are relegated, while a draw for Burnley at Old Trafford leaves them second from bottom on 24 points, one behind Luton, who lost at Wolves.Everton are eight points clear of the drop zone and a win this evening will guarantee their safety. Even a draw ought to be enough, given their superior goal difference to the four teams below them. Continue reading...   \n",
       "608                                                                                                                                                                                                                                                                                                                                                                                                                                                                                                                                                                                                                                                                                                                                                                                                                                                                                                                                Premier League updates, 8pm BST kick-off at Villa ParkLive scoreboard | West Ham 2-2 Liverpool | And drop Tim a mailIn other news, Everton have avoided relegation. They needed three points today and got them by beating Brentford 1-0 with a goal from Idrissa Gueye. Since capitulating at Chelsea, Everton have had three games at Goodison Park and won them all without conceding once. Everton go 15th, above Brentford: it were not for the points deductions, they’d be level with Brighton.We have an email. “What does it mean,” wonders Stephen Taylor, “‘if the FA gets its way’?” Sorry not to be clear – I was referring to this story. Continue reading...   \n",
       "612                                                                                                                                                                                                                                                                                                                                                                                                                                                                                                                                                                                                                                                                                                                                                                   Battling, brave and somewhat aggrieved, Chelsea’s Champions League dream died in front of a record crowd of 39,398. A first-half goal from the mercurial Aitana Bonmatí, the controversial sending off of Kadeisha Buchanan and a questionable second-half penalty scored by Fridolina Rolfö denied Emma Hayes’s side a place in the final in Bilbao next month, and a dream finish to her time with the&nbsp;Blues.There was one change apiece for the showdown at Stamford Bridge. Mayra Ramírez was out of the squad entirely, with Hayes confirming the Colombia international had an injury that forced them to “change direction” and hand Catarina Macario a first Champions League start for the Blues. Meanwhile, Jonatan Giráldez recalled Lucy Bronze for Barcelona, with Mariona Caldentey dropping out. Continue reading...   \n",
       "620                                                                                                                                                                                                                                                                                                                                                                                                                                                                                                                                                                                                                                                                                                                                                                                                                                                                                                                                                                                                                                                                                                                      The celebrations were not as euphoric as the derby but Brentford marked another momentous step for Everton nonetheless. Despite two separate points deductions totalling eight points, doubts over their financial future and ownership, Everton have secured their top flight status for a 71st year in succession.Idrissa Gana Gueye’s goal was enough to deliver a fourth consecutive Premier League win here and complete a superb achievement by Sean Dyche. Continue reading...   \n",
       "621                                                                                                                                                                                                                                                                                                                                                                                                                                There’s always been a tension between connection to place and the commercial reality – but it has never felt more acuteCharlie Hurley, the greatest player Sunderland ever had, died on Monday. He was tough, powerful and composed, captain of Alan Brown’s promotion side of 1963-64, which may have been the best of all postwar Sunderland teams. Certainly it was the side my dad talked about the most, far more than the FA Cup-winning team of nine years later. Montgomery, Irwin, Ashurst, Harvey, Hurley, McNab, Usher, Herd, Sharkey, Crossan, Mulhall: names that flitted through my childhood as legends of a greater age. Imagine if Brian Clough hadn’t done his knee.George Mulhall, the Scottish outside-left, was his favourite, I think, but only because there was no point celebrating Hurley; everybody did that. Decades later, fans still sung Hurley’s name and bought No 5 shirts with his name on the back. His popularity at this remove is hard to explain. Other than promotion, Hurley won nothing. He wasn’t even local: born in Cork, he moved to Millwall at an early age and spoke with a pronounced London accent. Continue reading...   \n",
       "635                                                                                                                                                                                                                                                                                                                                                                                                                                                                                                                                                                                                                                                                                                                                                                                                                                                                 Arsenal’s world-class attacker on embracing the occasion of a pivotal derby at Tottenham with team’s title hopes on the lineEven when the stakes could barely be higher, Bukayo Saka finds the capacity to step back a little and marvel. He needs no telling what Sunday’s north London derby means, the possibilities victory would unlock and the likely implications of falling short, but it would not feel the same without a sense of fun.“When you go in the stadium and see the atmosphere, it’s beautiful,” he says of those afternoons when Arsenal and Spurs face off. “I try to enjoy it. There has to be an element of seriousness, discipline and focus, but you have to try to enjoy it as&nbsp;well.” Continue reading...   \n",
       "636                                                                                                                                                                                                                                                                                                                                                                                                                                                                                                                                                                                                                                                                                                  The Chelsea manager’s last tilt at the biggest prize to elude her ended in valiant defeat by Barcelona in the semi-finalAs the rain relentlessly tumbled to the Stamford Bridge turf, Emma Hayes and her Chelsea players trudged forlornly around the ground, the pain etched on their faces knowing how close they had come. A matter of inches the wrong side of the post, a series of questionable refereeing decisions and a key injury to Mayra Ramírez who had caused Barcelona so many issues at the Estadi Olímpic just a week earlier. Millimetres, a series of&nbsp;moments … so close but so far once again.The Champions League is the one trophy that has eluded Emma Hayes in her 12-year tenure. The one that, despite her protestations, she so desperately wanted to complete her haul of winning every available trophy at a club she had built from the ground up. Continue reading...   \n",
       "637                                                                                                                                                                                                                                                                                                                                                                                                                                                                                                                                                         Mauricio Pochettino criticised Chelsea’s soft centre after a bruising defeat in midweek but they showed some mettle to bounce back from a two-goal deficit and earn a creditable draw at Aston Villa. Noni Madueke dragged Chelsea back into the contest soon after the hour before Conor Gallagher, seemingly inspired by the captain’s armband, located the top corner with a beautiful strike with nine minutes of normal time to play. Axel Disasi then thought he had scored a stoppage-time winner for Chelsea only for it to be disallowed after a push by Benoît Badiashile on Diego Carlos was referred by the VAR.Unai Emery banged the pristine red turf in front of the home dugout after Morgan Rogers scored Villa’s second goal on 42 minutes but his evening ended in frustration. Ollie Watkins skied a rare second-half opening, blazing over close to the penalty spot with a couple of minutes left. Villa can only hope they do not look back on this draw as a costly slip in the race for the top four. Continue reading...   \n",
       "638                                                                                                                                                                                                                                                                                                                                                                                                                                                                                                                                                                                                                                                                                                                                                                                                                                                                                                                                                                                                                 Ipswich still in third after conceding late equaliser in 3-3 drawHuddersfield all but relegated after draw with BirminghamOmari Hutchinson scored twice but Hull came from behind three times to stop Ipswich moving into the Championship promotion places with a 3-3 draw at the MKM Stadium.Ipswich started the day a solitary point behind Leeds having played two games less, knowing a victory would put them in healthy position to return to the Premier League, and George Hirst fired the visitors in front in the 19th minute to give them a perfect start. Continue reading...   \n",
       "689  The actor and cookbook author, 58, copes with a looming empty nest by inviting everyone around her tableSunday worries? My Sundays are changing. My kids are now 17 and 21, and we’re at a crossroads between me being in control and them being old enough to be in control. I’m in an area of grief. The empty nesting has left me quite sad.Family time? Sundays have such a weight of expectation of being together as a family. Food is at the centre of my life – we would all break bread together. Now the kids say, ‘I think you’ll find I’m going to be asleep until 4pm.’ This generation isn’t as scared of their parents as we were.Sundays growing up? My parents were divorced, so it was a game of two halves, travelling between them. Everyone would be drinking. My dad always had a big cigar in his mouth, there was a lot of arguing, a lot of jokes, and there were dogs barking. Everyone seemed to be having an affair in the 70s. In my memory, all the adults were having sex with each other. I was brought up in Surrey. There was nothing else to do other than shag your neighbour.Sunday grub? I’ve written three cookbooks: I’m a feeder. There’s breakfast, brunch, homemade snacks. Then we have a big roast with homemade pudding. As a child, the house would be full and I liked the chaos. Now, I’ll invite any old strangers just to hear that clink of cutlery.Sunday me-time? Don’t knock on the door at 7.30am, because Mum’s in the bath. My husband endlessly books massages. I’m like: ‘You all right mate? You could just run a bath.’ Continue reading...   \n",
       "734                                                                                                                                                                                                                                                                                                                                                                                                                                                                                                                                                                                                                                                                                                                                                                                                                                                                                                                                                                                                                                                                                        Captain says team lacked ‘fight’ at Everton and in other gamesHe feels fear of making mistakes may have contributed to slumpVirgil van Dijk has described the way Liverpool have allowed the season to end as unacceptable and admitted they do not deserve to win the Premier League.Just over a month ago Liverpool were chasing an unprecedented but unlikely quadruple but a week after exiting Europe their Premier League title hopes were left in tatters after a 2-0 defeat at Everton. Continue reading...   \n",
       "777                                                                                                                                                                                                                                                                                                                                                                                                                                                                                                                                                                                                                                                                                                                                                                          Everton were set on closing down their rivals from the off and the tactics sapped the belief from the title challengersIt is little wonder Jürgen Klopp is running out of energy when he is having to come up with a new lineup every few days. For the Merseyside derby defeat to Everton there were six changes to follow on from the half-dozen made for Sunday’s win over Fulham. On this occasion, however, it did not work.The latter weeks of the season are a tricky balance for any coach with so much at stake. Trying to maintain a rhythm and build momentum while keeping everyone fresh for crucial fixtures is an unenviable task. It cannot help a manager when hours before the match a starter withdraws but not even the riches of football can dictate when a mother-to-be enters labour. Continue reading...   \n",
       "778                                                                                                                                                                                                                                                                                                                                                                                                                                                                                                                                                                                                                                                                                                                                                                                                                                                                                                                                                                                                                              With 81 minutes gone Bruno Fernandes collected a Kobbie Mainoo pass and with a swish of his left foot fired a laser past Wes Foderingham and Manchester United were 3-2 ahead. The question now was could they, at last, hang on to a lead.This was answered emphatically by Rasmus Højlund, whose strike as the end of regulation time neared gave Erik ten Hag’s team security and was the best way to close before a watching Jason Wilcox, the new technical director, who will lead the football department until Dan Ashworth joins from Newcastle. Continue reading...   \n",
       "779                                                                                                                                                                                                                                                                                                                                                                                                                                                                                                                                                           And to think Stuart Attwell was hoping for a quiet week clear of controversy. The referee was again the subject of rage, this time not from a Greek shipping magnate but from Wolves’ irate supporters, after he disallowed Hwang Hee-chan’s second-half equaliser at home to Bournemouth for the meekest of tangles in the buildup. Attwell initially awarded Hwang’s header before the VAR, Darren England, advised him to visit the pitch-side monitor to review a brush between Matheus Cunha and Justin Kluivert, albeit a petulant one.Kluivert went to shove Cunha and the Wolves substitute responded by flinging an arm in his direction but did not appear to make any contact with the player. It was a brief contretemps but, tellingly, Kluivert did not appeal after Hwang converted Nélson Semedo’s superb cross. Gary O’Neil placed his hands on his head in disbelief – not for the first time this season – and the fans let Attwell know the rest. “It’s not football any more,” bellowed the South Bank. Continue reading...   \n",
       "787                                                                                                                                                                                                                                                                                                                                                                                                                                                                                                                                                                             PSG’s trio of summer signings Ousmane Dembélé and Gonçalo Ramos proved they are clicking at last against LorientBy Eric Devin for Get French Football NewsThis was the situation Paris Saint-Germain faced on Wednesday night at the Stade du Moustoir: Luis Enrique sent out a heavily rotated team, the visitors having all but clinched the league title, and they were away to a Lorient side with talented individuals, fighting to stay in the top flight. It sounded like a recipe for dropped points and there is a precedent: PSG closed out the end of last season with a draw to Strasbourg and a loss to Clermont at home. The latter result certainly dampened the title celebrations at the Parc des Princes.However, the leaders barely blinked, even with Achraf Hakimi, Warren Zaïre-Emery, Marquinhos, Bradley Barcola and Vitinha not travelling to Brittany. A brace each from Kylian Mbappé and Ousmane Dembélé was more than PSG needed to put the hapless Merlus to the sword, 4-1. Continue reading...   \n",
       "788                                                                                                                                                                                                                                                                                                                                                                                                                                                                                                                                                                                                                                                                                                                         Mikel Arteta’s side are chasing the title but Ange Postecoglou wants a top-four spot and has the tools to hurt his local rivalsAfter Arsenal lost to Aston Villa and went out of the Champions League in the same week, there were suggestions their season was at risk of unravelling. Since then they have secured a win at Wolves and thrashed Chelsea but they face a pivotal test of their credentials against their bitter rivals Tottenham on Sunday.That game is not just about a team fighting for the title travelling to one aiming to qualify for the Champions League; there is a lot more at stake in a derby – just ask Liverpool. The effect of hostility should not be underestimated in potentially season-defining matches. Tottenham will be desperate to dent the Gunners’ chances of securing a first Premier League trophy in 20 years. Continue reading...   \n",
       "792                                                                                                                                                                                                                                                                                                                                                                                                                                                                                                                                                                                                                                                                                                                                                                                                                                                                                                                         Sign up now! Sign up now! Sign up now? Sign up now!“You lost the league at Goodison Park,” serenaded the Everton fans as Liverpool’s players trudged off the pitch on Wednesday evening after their 2-0 defeat, the footballing equivalent of Nelson Muntz giving his teacher a wedgie and yelling: “Ha Ha!” And while Football Daily is convinced that Jürgen Klopp understands the literal translation of schadenfreude, it’s rare that the Liverpool manager has been on the receiving end of the concept. This defeat at Goodison was the first and last of Klopp’s nine-year tenure, and Liverpool’s first defeat at their neighbours’ ground since 2010. Continue reading...   \n",
       "796                                                                                                                                                                                                                                                                                                                                                                                                                                                                                                   Manager’s departure news is not to blame for his side losing their grasp on two, quite possibly three, trophies in quick timeIn isolation, Jürgen Klopp did not have to apologise for losing for the first time in eight visits to Goodison Park. Bad nights happen. In the context of Liverpool’s sorry end to the season, however, an apology felt entirely appropriate.“I really feel for the people, I am really sorry for that,” said the Liverpool manager after Wednesday’s derby defeat by Everton. “We never lost here before and that feels really different. I really apologise for that.” Klopp’s voice and choice of words captured Liverpool’s mood as the prospects of giving their legendary manager a fitting send-off evaporate. Deflation. Yes, a new-look team was not expected to mount a title challenge this season. That is not a default excuse for recent underperformance. Yes, a quadruple is a fanciful ambition. That does not explain how Liverpool have allowed two, quite possibly three, trophies to slip from their grasp in less than six weeks. Continue reading...   \n",
       "\n",
       "            venue  \\\n",
       "168  The Guardian   \n",
       "172  The Guardian   \n",
       "180  The Guardian   \n",
       "181  The Guardian   \n",
       "182  The Guardian   \n",
       "183  The Guardian   \n",
       "192  The Guardian   \n",
       "193  The Guardian   \n",
       "197  The Guardian   \n",
       "208  The Guardian   \n",
       "216  The Guardian   \n",
       "242  The Guardian   \n",
       "243  The Guardian   \n",
       "244  The Guardian   \n",
       "245  The Guardian   \n",
       "246  The Guardian   \n",
       "404  The Guardian   \n",
       "405  The Guardian   \n",
       "406  The Guardian   \n",
       "409  The Guardian   \n",
       "476  The Guardian   \n",
       "494  The Guardian   \n",
       "495  The Guardian   \n",
       "577  The Guardian   \n",
       "579  The Guardian   \n",
       "583  The Guardian   \n",
       "585  The Guardian   \n",
       "587  The Guardian   \n",
       "608  The Guardian   \n",
       "612  The Guardian   \n",
       "620  The Guardian   \n",
       "621  The Guardian   \n",
       "635  The Guardian   \n",
       "636  The Guardian   \n",
       "637  The Guardian   \n",
       "638  The Guardian   \n",
       "689  The Guardian   \n",
       "734  The Guardian   \n",
       "777  The Guardian   \n",
       "778  The Guardian   \n",
       "779  The Guardian   \n",
       "787  The Guardian   \n",
       "788  The Guardian   \n",
       "792  The Guardian   \n",
       "796  The Guardian   \n",
       "\n",
       "                                                                                                                                                       url  \\\n",
       "168                                                   https://www.theguardian.com/football/live/2024/apr/25/brighton-v-manchester-city-premier-league-live   \n",
       "172                                           https://www.theguardian.com/sport/2024/apr/25/marlie-packer-england-women-rugby-union-six-nations-grand-slam   \n",
       "180                        https://www.theguardian.com/football/audio/2024/apr/25/have-everton-dashed-liverpool-title-dreams-football-weekly-extra-podcast   \n",
       "181                             https://www.theguardian.com/football/audio/2024/apr/24/arsenal-thrash-chelsea-and-a-football-league-update-football-weekly   \n",
       "182                               https://www.theguardian.com/football/audio/2024/apr/23/an-episode-from-womens-football-weekly-fifpro-exclusive-interview   \n",
       "183                                               https://www.theguardian.com/football/audio/2024/apr/23/fifpro-exclusive-interview-womens-football-weekly   \n",
       "192                                                  https://www.theguardian.com/football/2024/apr/25/brighton-manchester-city-premier-league-match-report   \n",
       "193                             https://www.theguardian.com/football/2024/apr/25/sean-dyche-defends-his-everton-tactics-not-a-time-for-style-a-time-to-win   \n",
       "197                                     https://www.theguardian.com/football/2024/apr/26/premier-league-10-things-to-look-out-for-in-this-weekend-football   \n",
       "208                               https://www.theguardian.com/football/2024/apr/25/manchester-citys-well-oiled-winning-machine-shows-no-sign-of-exhaustion   \n",
       "216                                    https://www.theguardian.com/football/live/2024/apr/26/weekend-football-countdown-premier-league-championship-europe   \n",
       "242                     https://www.theguardian.com/football/2024/apr/26/gareth-southgate-to-manchester-united-is-actually-a-good-idea-so-whats-the-chance   \n",
       "243  https://www.theguardian.com/football/2024/apr/26/best-in-the-world-chelsea-emma-hayes-mindful-of-barcelona-threat-after-away-success-champions-league   \n",
       "244                                 https://www.theguardian.com/football/2024/apr/26/football-calendar-tipping-point-bigger-club-world-cup-richard-masters   \n",
       "245                                                             https://www.theguardian.com/football/live/2024/apr/26/qpr-v-leeds-united-championship-live   \n",
       "246                                     https://www.theguardian.com/football/2024/apr/26/spurs-could-not-stop-the-invincibles-can-they-deny-arteta-arsenal   \n",
       "404                                                                   https://www.theguardian.com/football/2024/apr/26/qpr-leeds-championship-match-report   \n",
       "405                             https://www.theguardian.com/football/2024/apr/26/a-premier-league-return-is-the-only-certainty-in-leicesters-cloudy-future   \n",
       "406                             https://www.theguardian.com/football/2024/apr/26/its-like-juggling-sand-sean-dyche-rebuild-hit-by-uncertain-everton-future   \n",
       "409                                  https://www.theguardian.com/football/2024/apr/26/mikel-arteta-arsene-wenger-arsenal-tottenham-premier-league-football   \n",
       "476                                                  https://www.theguardian.com/football/live/2024/apr/27/west-ham-united-v-liverpool-premier-league-live   \n",
       "494                                     https://www.theguardian.com/football/2024/apr/27/sheffield-united-relegated-after-thrashing-by-five-star-newcastle   \n",
       "495                                                 https://www.theguardian.com/football/2024/apr/27/manchester-united-burnley-premier-league-match-report   \n",
       "577                           https://www.theguardian.com/football/live/2024/apr/27/manchester-united-v-burnley-newcastle-v-sheffield-united-and-more-live   \n",
       "579                                                        https://www.theguardian.com/football/2024/apr/27/west-ham-liverpool-premier-league-match-report   \n",
       "583                                              https://www.theguardian.com/sport/live/2024/apr/27/france-v-england-womens-six-nations-title-decider-live   \n",
       "585                           https://www.theguardian.com/football/live/2024/apr/27/chelsea-v-barcelona-womens-champions-league-semi-final-second-leg-live   \n",
       "587                                                          https://www.theguardian.com/football/live/2024/apr/27/everton-v-brentford-premier-league-live   \n",
       "608                                                        https://www.theguardian.com/football/live/2024/apr/27/aston-villa-v-chelsea-premier-league-live   \n",
       "612                                   https://www.theguardian.com/football/2024/apr/27/chelsea-v-barcelona-womens-champions-league-semi-final-match-report   \n",
       "620                                                         https://www.theguardian.com/football/2024/apr/27/everton-brentford-premier-league-match-report   \n",
       "621             https://www.theguardian.com/football/blog/2024/apr/27/ange-postecoglou-the-plastic-manager-is-perfect-fit-for-a-club-at-odds-with-its-fans   \n",
       "635                                                 https://www.theguardian.com/football/2024/apr/27/bukayo-saka-arsenal-tottenham-premier-league-football   \n",
       "636                                  https://www.theguardian.com/football/blog/2024/apr/27/emma-hayes-sees-champions-league-dreams-washed-away-in-the-rain   \n",
       "637                                                       https://www.theguardian.com/football/2024/apr/27/aston-villa-chelsea-premier-league-match-report   \n",
       "638                                https://www.theguardian.com/football/2024/apr/27/championship-roundup-norwich-and-west-brom-falter-in-race-for-playoffs   \n",
       "689                                  https://www.theguardian.com/lifeandstyle/2024/apr/28/sunday-with-fay-ripley-im-a-feeder-breakfast-brunch-snacks-roast   \n",
       "734                                           https://www.theguardian.com/football/2024/apr/25/virgil-van-dijk-liverpool-unacceptable-do-not-deserve-title   \n",
       "777                                   https://www.theguardian.com/football/2024/apr/24/sean-dyches-tracksuit-energy-shocks-weary-liverpool-into-submission   \n",
       "778                                        https://www.theguardian.com/football/2024/apr/24/manchester-united-sheffield-united-premier-league-match-report   \n",
       "779                                                        https://www.theguardian.com/football/2024/apr/24/wolves-bournemouth-premier-league-match-report   \n",
       "787                                            https://www.theguardian.com/football/2024/apr/25/dortmund-beware-psg-are-coming-good-at-just-the-right-time   \n",
       "788                                           https://www.theguardian.com/football/2024/apr/25/spurs-arsenal-derby-mentality-mikel-arteta-ange-postecoglou   \n",
       "792                                                                https://www.theguardian.com/football/2024/apr/25/football-daily-email-everton-liverpool   \n",
       "796                                              https://www.theguardian.com/football/2024/apr/25/jurgen-klopp-liverpool-premier-league-title-race-goodbye   \n",
       "\n",
       "               published_at                     updated_at  cluster  \n",
       "168  2024-04-25 20:06:00+00  2024-04-26 20:03:02.275976+00        1  \n",
       "172  2024-04-25 18:00:16+00  2024-04-26 20:03:02.345321+00        1  \n",
       "180  2024-04-25 10:48:29+00  2024-04-26 20:03:02.476884+00        1  \n",
       "181  2024-04-24 11:19:51+00  2024-04-26 20:03:02.491513+00        1  \n",
       "182  2024-04-23 14:14:49+00   2024-04-26 20:03:02.51351+00        1  \n",
       "183  2024-04-23 13:54:51+00  2024-04-26 20:03:02.527488+00        1  \n",
       "192  2024-04-25 21:02:25+00  2024-04-26 20:03:02.629692+00        1  \n",
       "193  2024-04-25 21:30:20+00  2024-04-26 20:03:02.638669+00        1  \n",
       "197  2024-04-25 23:00:23+00  2024-04-26 20:03:02.681405+00        1  \n",
       "208  2024-04-25 21:40:42+00  2024-04-26 20:03:02.794284+00        1  \n",
       "216  2024-04-26 09:36:50+00  2024-04-26 20:03:02.860927+00        1  \n",
       "242  2024-04-26 17:05:41+00  2024-04-26 20:03:03.151436+00        1  \n",
       "243  2024-04-26 17:49:15+00   2024-04-26 20:03:03.16845+00        1  \n",
       "244  2024-04-26 17:40:07+00  2024-04-26 20:03:03.181513+00        1  \n",
       "245  2024-04-26 18:30:44+00  2024-04-26 20:03:03.201508+00        1  \n",
       "246  2024-04-26 19:00:13+00    2024-04-26 20:03:03.2163+00        1  \n",
       "404  2024-04-26 21:06:25+00  2024-04-27 01:32:46.567875+00        1  \n",
       "405  2024-04-26 21:08:38+00   2024-04-27 01:32:46.57714+00        1  \n",
       "406  2024-04-26 21:30:17+00  2024-04-27 01:32:46.584085+00        1  \n",
       "409  2024-04-26 21:30:17+00  2024-04-27 01:32:46.591427+00        1  \n",
       "476  2024-04-27 10:33:50+00   2024-04-27 17:32:52.57324+00        1  \n",
       "494  2024-04-27 16:16:46+00  2024-04-27 17:32:52.751277+00        1  \n",
       "495  2024-04-27 16:12:44+00  2024-04-27 17:32:52.759049+00        1  \n",
       "577  2024-04-27 13:13:28+00   2024-04-27 23:02:43.20155+00        1  \n",
       "579  2024-04-27 13:41:37+00  2024-04-27 23:02:43.216268+00        1  \n",
       "583  2024-04-27 15:00:04+00  2024-04-27 23:02:43.246332+00        1  \n",
       "585  2024-04-27 16:01:29+00  2024-04-27 23:02:43.263802+00        1  \n",
       "587  2024-04-27 16:04:58+00  2024-04-27 23:02:43.279262+00        1  \n",
       "608  2024-04-27 18:30:13+00   2024-04-27 23:02:43.32591+00        1  \n",
       "612  2024-04-27 18:37:02+00   2024-04-27 23:02:43.34808+00        1  \n",
       "620  2024-04-27 18:38:12+00  2024-04-27 23:02:43.358445+00        1  \n",
       "621  2024-04-27 19:00:42+00  2024-04-27 23:02:43.369584+00        1  \n",
       "635  2024-04-27 21:30:45+00  2024-04-27 23:02:43.425401+00        1  \n",
       "636  2024-04-27 20:50:39+00  2024-04-27 23:02:43.435837+00        1  \n",
       "637  2024-04-27 21:07:05+00  2024-04-27 23:02:43.444593+00        1  \n",
       "638  2024-04-27 21:38:11+00   2024-04-27 23:02:43.45199+00        1  \n",
       "689  2024-04-28 05:45:02+00  2024-04-28 08:02:39.527832+00        1  \n",
       "734  2024-04-25 09:40:40+00  2024-04-26 12:32:52.965683+00        1  \n",
       "777  2024-04-24 22:33:48+00  2024-04-26 10:02:37.257531+00        1  \n",
       "778  2024-04-24 21:08:44+00  2024-04-26 10:02:37.273551+00        1  \n",
       "779  2024-04-24 21:09:46+00  2024-04-26 10:02:37.283721+00        1  \n",
       "787  2024-04-25 11:01:54+00  2024-04-26 10:02:37.405217+00        1  \n",
       "788  2024-04-25 11:34:18+00  2024-04-26 10:02:37.438662+00        1  \n",
       "792  2024-04-25 14:16:50+00  2024-04-26 10:02:37.570191+00        1  \n",
       "796  2024-04-25 16:12:21+00  2024-04-26 10:02:37.622961+00        1  "
      ]
     },
     "metadata": {},
     "output_type": "display_data"
    }
   ],
   "source": [
    "c = 1 \n",
    "with pd.option_context(\"display.max_colwidth\", None):\n",
    "    print(df.query(f\"cluster == {c}\").cluster_name.values[0])\n",
    "    print(len(df.query(f\"cluster == {c}\")))\n",
    "    display(df.query(f\"cluster == {c}\").drop(columns=[\"cluster_name\", \"guid\"]))"
   ]
  },
  {
   "cell_type": "markdown",
   "metadata": {},
   "source": []
  }
 ],
 "metadata": {
  "kernelspec": {
   "display_name": ".venv",
   "language": "python",
   "name": "python3"
  },
  "language_info": {
   "codemirror_mode": {
    "name": "ipython",
    "version": 3
   },
   "file_extension": ".py",
   "mimetype": "text/x-python",
   "name": "python",
   "nbconvert_exporter": "python",
   "pygments_lexer": "ipython3",
   "version": "3.11.4"
  },
  "orig_nbformat": 4
 },
 "nbformat": 4,
 "nbformat_minor": 2
}
